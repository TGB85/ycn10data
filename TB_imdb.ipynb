{
 "cells": [
  {
   "cell_type": "code",
   "execution_count": 1,
   "id": "2baad3b6",
   "metadata": {},
   "outputs": [],
   "source": [
    "import os\n",
    "import pandas as pd\n",
    "import json"
   ]
  },
  {
   "cell_type": "markdown",
   "id": "e961f1c3",
   "metadata": {},
   "source": [
    "# IMDB\n",
    "data: https://www.kaggle.com/datasets/ashirwadsangwan/imdb-dataset  \\\n",
    "saved name.basics as names, title.basics as titles, title.ratings as ratings  \\\n",
    "redownloaded title.basics from [kaggle](https://www.kaggle.com/datasets/ashirwadsangwan/imdb-dataset/versions/699?resource=download) \\\n",
    "* names columns = const, primaryName, birthYear, deathYear, primaryProfession, knownForTitles (array of tconst)   \n",
    "* titles columns = tconst, titleType, primaryTitle, originalTitle, isAdult(1=adult title), startYear, endYear, runtimeMinutes, genres (string array, max length=3)\n",
    "* ratings columns =  tconst, averageRating, numVotes"
   ]
  },
  {
   "cell_type": "code",
   "execution_count": 2,
   "id": "235a23e8",
   "metadata": {},
   "outputs": [],
   "source": [
    "folder = './imdb/'"
   ]
  },
  {
   "cell_type": "markdown",
   "id": "a67847c9",
   "metadata": {},
   "source": [
    "git bash: \n",
    "* head -n 1 titles.tsv > title_sample.tsv\n",
    "* tail -n+2 titles.tsv | shuf -n 1000000 >> title_sample.tsv"
   ]
  },
  {
   "cell_type": "code",
   "execution_count": 3,
   "id": "1e935f1b",
   "metadata": {},
   "outputs": [
    {
     "data": {
      "text/plain": [
       "['./imdb/names.tsv',\n",
       " './imdb/ratings.tsv',\n",
       " './imdb/titles.tsv',\n",
       " './imdb/title_sample.tsv']"
      ]
     },
     "execution_count": 3,
     "metadata": {},
     "output_type": "execute_result"
    }
   ],
   "source": [
    "files = [os.path.join(folder, file) for file in os.listdir(folder)]\n",
    "files"
   ]
  },
  {
   "cell_type": "code",
   "execution_count": null,
   "id": "f71336c3",
   "metadata": {},
   "outputs": [],
   "source": [
    "# dfs = {f\"{os.path.basename(files[0]).split('.')[0]}_df\": pd.read_csv(file, delimiter=\"\\t\") for file in files}\n",
    "# DtypeWarning: Columns (4) have mixed types.Specify dtype option on import or set low_memory=False."
   ]
  },
  {
   "cell_type": "code",
   "execution_count": 4,
   "id": "eb67c6e2",
   "metadata": {},
   "outputs": [],
   "source": [
    "ratings = pd.read_csv(files[1], delimiter='\\t', dtype={'tconst': str, \n",
    "                                                       'averageRating': 'float64', \n",
    "                                                       'numVotes': int\n",
    "                                                      }, usecols=['tconst', 'averageRating'])"
   ]
  },
  {
   "cell_type": "code",
   "execution_count": 5,
   "id": "da4396ce",
   "metadata": {},
   "outputs": [
    {
     "name": "stdout",
     "output_type": "stream",
     "text": [
      "<class 'pandas.core.frame.DataFrame'>\n",
      "RangeIndex: 1238892 entries, 0 to 1238891\n",
      "Data columns (total 2 columns):\n",
      " #   Column         Non-Null Count    Dtype  \n",
      "---  ------         --------------    -----  \n",
      " 0   tconst         1238892 non-null  object \n",
      " 1   averageRating  1238892 non-null  float64\n",
      "dtypes: float64(1), object(1)\n",
      "memory usage: 18.9+ MB\n"
     ]
    }
   ],
   "source": [
    "ratings.info()"
   ]
  },
  {
   "cell_type": "code",
   "execution_count": null,
   "id": "ed4fa879",
   "metadata": {},
   "outputs": [],
   "source": [
    "# names = pd.read_csv(files[0], delimiter='\\t', usecols=['primaryName', 'knownForTitles'])"
   ]
  },
  {
   "cell_type": "code",
   "execution_count": null,
   "id": "87c2c370",
   "metadata": {},
   "outputs": [],
   "source": [
    "# names.info()"
   ]
  },
  {
   "cell_type": "code",
   "execution_count": null,
   "id": "3b0684a0",
   "metadata": {},
   "outputs": [],
   "source": [
    "# names.head()"
   ]
  },
  {
   "cell_type": "code",
   "execution_count": null,
   "id": "bb36eb27",
   "metadata": {},
   "outputs": [],
   "source": [
    "# sample\n",
    "titles_sample = pd.read_csv(files[3], delimiter='\\t')\n",
    "titles_sample.genres.unique()"
   ]
  },
  {
   "cell_type": "code",
   "execution_count": 192,
   "id": "f09bd35d",
   "metadata": {},
   "outputs": [],
   "source": [
    "t_columns = {'tconst': str,\n",
    "            'titleType': str,\n",
    "            'primaryTitle': str,\n",
    "            'originalTitle': str,\n",
    "            'isAdult': object,\n",
    "            'startYear': object,\n",
    "            'endYear': object,\n",
    "            'runtimeMinutes': object,\n",
    "            'genres': object\n",
    "            }"
   ]
  },
  {
   "cell_type": "code",
   "execution_count": 196,
   "id": "aabf0dfe",
   "metadata": {},
   "outputs": [],
   "source": [
    "titles = pd.read_csv(files[3], delimiter='\\t', dtype=t_columns, usecols=['tconst', \n",
    "                                                                         'titleType', \n",
    "                                                                         'primaryTitle',\n",
    "                                                                         'isAdult', \n",
    "                                                                         'startYear', \n",
    "                                                                         'runtimeMinutes', \n",
    "                                                                         'genres'])"
   ]
  },
  {
   "cell_type": "code",
   "execution_count": 194,
   "id": "26609a73",
   "metadata": {},
   "outputs": [
    {
     "data": {
      "text/plain": [
       "array(['0', '1', '2014'], dtype=object)"
      ]
     },
     "execution_count": 194,
     "metadata": {},
     "output_type": "execute_result"
    }
   ],
   "source": [
    "# isAdult\n",
    "titles.isAdult.unique()"
   ]
  },
  {
   "cell_type": "code",
   "execution_count": 197,
   "id": "1d1629a9",
   "metadata": {},
   "outputs": [
    {
     "data": {
      "text/html": [
       "<div>\n",
       "<style scoped>\n",
       "    .dataframe tbody tr th:only-of-type {\n",
       "        vertical-align: middle;\n",
       "    }\n",
       "\n",
       "    .dataframe tbody tr th {\n",
       "        vertical-align: top;\n",
       "    }\n",
       "\n",
       "    .dataframe thead th {\n",
       "        text-align: right;\n",
       "    }\n",
       "</style>\n",
       "<table border=\"1\" class=\"dataframe\">\n",
       "  <thead>\n",
       "    <tr style=\"text-align: right;\">\n",
       "      <th></th>\n",
       "      <th>tconst</th>\n",
       "      <th>titleType</th>\n",
       "      <th>primaryTitle</th>\n",
       "      <th>isAdult</th>\n",
       "      <th>startYear</th>\n",
       "      <th>runtimeMinutes</th>\n",
       "      <th>genres</th>\n",
       "    </tr>\n",
       "  </thead>\n",
       "  <tbody>\n",
       "    <tr>\n",
       "      <th>149201</th>\n",
       "      <td>tt3984412</td>\n",
       "      <td>tvEpisode</td>\n",
       "      <td>I'm Not Going to Come Last, I'm Just Going to ...</td>\n",
       "      <td>2014</td>\n",
       "      <td>\\N</td>\n",
       "      <td>Game-Show,Reality-TV</td>\n",
       "      <td>NaN</td>\n",
       "    </tr>\n",
       "  </tbody>\n",
       "</table>\n",
       "</div>"
      ],
      "text/plain": [
       "           tconst  titleType  \\\n",
       "149201  tt3984412  tvEpisode   \n",
       "\n",
       "                                             primaryTitle isAdult startYear  \\\n",
       "149201  I'm Not Going to Come Last, I'm Just Going to ...    2014        \\N   \n",
       "\n",
       "              runtimeMinutes genres  \n",
       "149201  Game-Show,Reality-TV    NaN  "
      ]
     },
     "execution_count": 197,
     "metadata": {},
     "output_type": "execute_result"
    }
   ],
   "source": [
    "# titles.loc[titles.isAdult == '2014'] = tvEpisode"
   ]
  },
  {
   "cell_type": "code",
   "execution_count": 198,
   "id": "74c9dfcb",
   "metadata": {},
   "outputs": [],
   "source": [
    "titles.drop(titles[titles.isAdult != '0'].index, inplace=True)"
   ]
  },
  {
   "cell_type": "code",
   "execution_count": 199,
   "id": "f30e1df9",
   "metadata": {},
   "outputs": [],
   "source": [
    "titles.drop(['isAdult'], axis=1, inplace=True)"
   ]
  },
  {
   "cell_type": "code",
   "execution_count": 31,
   "id": "604e3b4a",
   "metadata": {},
   "outputs": [
    {
     "name": "stdout",
     "output_type": "stream",
     "text": [
      "<class 'pandas.core.frame.DataFrame'>\n",
      "Int64Index: 969110 entries, 0 to 999999\n",
      "Data columns (total 6 columns):\n",
      " #   Column          Non-Null Count   Dtype \n",
      "---  ------          --------------   ----- \n",
      " 0   tconst          969110 non-null  object\n",
      " 1   titleType       969110 non-null  object\n",
      " 2   primaryTitle    969110 non-null  object\n",
      " 3   startYear       969110 non-null  object\n",
      " 4   runtimeMinutes  969110 non-null  object\n",
      " 5   genres          969110 non-null  object\n",
      "dtypes: object(6)\n",
      "memory usage: 51.8+ MB\n"
     ]
    }
   ],
   "source": [
    "titles.info()"
   ]
  },
  {
   "cell_type": "code",
   "execution_count": 200,
   "id": "12efd891",
   "metadata": {},
   "outputs": [
    {
     "data": {
      "text/plain": [
       "array(['tvEpisode', 'video', 'short', 'movie', 'tvSeries', 'tvMovie',\n",
       "       'tvMiniSeries', 'videoGame', 'tvSpecial', 'tvShort'], dtype=object)"
      ]
     },
     "execution_count": 200,
     "metadata": {},
     "output_type": "execute_result"
    }
   ],
   "source": [
    "# titleType\n",
    "titles.titleType.unique()"
   ]
  },
  {
   "cell_type": "code",
   "execution_count": 201,
   "id": "06f34861",
   "metadata": {},
   "outputs": [],
   "source": [
    "titles.drop(titles[titles.titleType != 'movie'].index, inplace=True)"
   ]
  },
  {
   "cell_type": "code",
   "execution_count": 235,
   "id": "afc9058f",
   "metadata": {},
   "outputs": [],
   "source": [
    "titles.drop(['titleType'], axis=1, inplace=True)"
   ]
  },
  {
   "cell_type": "code",
   "execution_count": 52,
   "id": "1d789500",
   "metadata": {},
   "outputs": [],
   "source": [
    "def drop_n(df):\n",
    "    for column in df.columns:\n",
    "        df.drop(df[df[column] == '\\\\N'].index, inplace=True)"
   ]
  },
  {
   "cell_type": "code",
   "execution_count": 202,
   "id": "6c1686e3",
   "metadata": {},
   "outputs": [],
   "source": [
    "drop_n(titles)"
   ]
  },
  {
   "cell_type": "code",
   "execution_count": 203,
   "id": "ad89a4ba",
   "metadata": {},
   "outputs": [],
   "source": [
    "# genre\n",
    "titles.drop(titles[titles.genres.isnull()].index, inplace=True)"
   ]
  },
  {
   "cell_type": "code",
   "execution_count": 204,
   "id": "2137baea",
   "metadata": {},
   "outputs": [],
   "source": [
    "# year\n",
    "titles.startYear = titles.startYear.astype('int64')"
   ]
  },
  {
   "cell_type": "code",
   "execution_count": 205,
   "id": "8f9fe4e5",
   "metadata": {},
   "outputs": [
    {
     "data": {
      "text/plain": [
       "2610"
      ]
     },
     "execution_count": 205,
     "metadata": {},
     "output_type": "execute_result"
    }
   ],
   "source": [
    "len(titles.loc[titles.startYear < 1942]) # 2610 rows"
   ]
  },
  {
   "cell_type": "code",
   "execution_count": 206,
   "id": "ac0cf318",
   "metadata": {},
   "outputs": [],
   "source": [
    "titles.drop(titles.loc[titles.startYear < 1942].index, inplace=True)"
   ]
  },
  {
   "cell_type": "code",
   "execution_count": 207,
   "id": "848977a3",
   "metadata": {},
   "outputs": [],
   "source": [
    "# runtime\n",
    "titles.runtimeMinutes = titles.runtimeMinutes.astype('int64')"
   ]
  },
  {
   "cell_type": "code",
   "execution_count": 208,
   "id": "03cacabb",
   "metadata": {},
   "outputs": [
    {
     "data": {
      "text/plain": [
       "1071"
      ]
     },
     "execution_count": 208,
     "metadata": {},
     "output_type": "execute_result"
    }
   ],
   "source": [
    "len(titles[titles.runtimeMinutes < 50]) # 1071 rows"
   ]
  },
  {
   "cell_type": "code",
   "execution_count": 209,
   "id": "dc37cd57",
   "metadata": {},
   "outputs": [],
   "source": [
    "# left join ratings\n",
    "t_ratings = titles.merge(ratings, how='left', on='tconst')"
   ]
  },
  {
   "cell_type": "code",
   "execution_count": 210,
   "id": "b1848ee6",
   "metadata": {},
   "outputs": [
    {
     "data": {
      "text/plain": [
       "tconst            0.000000\n",
       "titleType         0.000000\n",
       "primaryTitle      0.000000\n",
       "startYear         0.000000\n",
       "runtimeMinutes    0.000000\n",
       "genres            0.000000\n",
       "averageRating     0.307527\n",
       "dtype: float64"
      ]
     },
     "execution_count": 210,
     "metadata": {},
     "output_type": "execute_result"
    }
   ],
   "source": [
    "t_ratings.isnull().sum()/(len(t_ratings)) # ratings 30% null"
   ]
  },
  {
   "cell_type": "code",
   "execution_count": 236,
   "id": "3d19783a",
   "metadata": {},
   "outputs": [],
   "source": [
    "# inner join ratings\n",
    "t_with_ratings = titles.merge(ratings, how='inner', on='tconst')"
   ]
  },
  {
   "cell_type": "code",
   "execution_count": 237,
   "id": "7b3f4508",
   "metadata": {},
   "outputs": [
    {
     "name": "stdout",
     "output_type": "stream",
     "text": [
      "<class 'pandas.core.frame.DataFrame'>\n",
      "Int64Index: 25107 entries, 0 to 25106\n",
      "Data columns (total 6 columns):\n",
      " #   Column          Non-Null Count  Dtype  \n",
      "---  ------          --------------  -----  \n",
      " 0   tconst          25107 non-null  object \n",
      " 1   primaryTitle    25107 non-null  object \n",
      " 2   startYear       25107 non-null  int64  \n",
      " 3   runtimeMinutes  25107 non-null  int64  \n",
      " 4   genres          25107 non-null  object \n",
      " 5   averageRating   25107 non-null  float64\n",
      "dtypes: float64(1), int64(2), object(3)\n",
      "memory usage: 1.3+ MB\n"
     ]
    }
   ],
   "source": [
    " t_with_ratings.info() # 25107 rows"
   ]
  },
  {
   "cell_type": "code",
   "execution_count": 238,
   "id": "c84a5897",
   "metadata": {},
   "outputs": [
    {
     "data": {
      "text/html": [
       "<div>\n",
       "<style scoped>\n",
       "    .dataframe tbody tr th:only-of-type {\n",
       "        vertical-align: middle;\n",
       "    }\n",
       "\n",
       "    .dataframe tbody tr th {\n",
       "        vertical-align: top;\n",
       "    }\n",
       "\n",
       "    .dataframe thead th {\n",
       "        text-align: right;\n",
       "    }\n",
       "</style>\n",
       "<table border=\"1\" class=\"dataframe\">\n",
       "  <thead>\n",
       "    <tr style=\"text-align: right;\">\n",
       "      <th></th>\n",
       "      <th>tconst</th>\n",
       "      <th>primaryTitle</th>\n",
       "      <th>startYear</th>\n",
       "      <th>runtimeMinutes</th>\n",
       "      <th>genres</th>\n",
       "      <th>averageRating</th>\n",
       "    </tr>\n",
       "  </thead>\n",
       "  <tbody>\n",
       "    <tr>\n",
       "      <th>0</th>\n",
       "      <td>tt9109794</td>\n",
       "      <td>Kolaigaran</td>\n",
       "      <td>2019</td>\n",
       "      <td>109</td>\n",
       "      <td>Action,Crime,Drama</td>\n",
       "      <td>7.1</td>\n",
       "    </tr>\n",
       "    <tr>\n",
       "      <th>1</th>\n",
       "      <td>tt3548862</td>\n",
       "      <td>Face Down</td>\n",
       "      <td>2015</td>\n",
       "      <td>110</td>\n",
       "      <td>Crime,Drama</td>\n",
       "      <td>6.3</td>\n",
       "    </tr>\n",
       "    <tr>\n",
       "      <th>2</th>\n",
       "      <td>tt9916170</td>\n",
       "      <td>The Rehearsal</td>\n",
       "      <td>2019</td>\n",
       "      <td>51</td>\n",
       "      <td>Drama</td>\n",
       "      <td>7.0</td>\n",
       "    </tr>\n",
       "    <tr>\n",
       "      <th>3</th>\n",
       "      <td>tt1679625</td>\n",
       "      <td>Missione di pace</td>\n",
       "      <td>2011</td>\n",
       "      <td>90</td>\n",
       "      <td>Comedy,Drama</td>\n",
       "      <td>5.7</td>\n",
       "    </tr>\n",
       "    <tr>\n",
       "      <th>4</th>\n",
       "      <td>tt0451769</td>\n",
       "      <td>Imaginum</td>\n",
       "      <td>2005</td>\n",
       "      <td>82</td>\n",
       "      <td>Animation,Family,Fantasy</td>\n",
       "      <td>4.3</td>\n",
       "    </tr>\n",
       "  </tbody>\n",
       "</table>\n",
       "</div>"
      ],
      "text/plain": [
       "      tconst      primaryTitle  startYear  runtimeMinutes  \\\n",
       "0  tt9109794        Kolaigaran       2019             109   \n",
       "1  tt3548862         Face Down       2015             110   \n",
       "2  tt9916170     The Rehearsal       2019              51   \n",
       "3  tt1679625  Missione di pace       2011              90   \n",
       "4  tt0451769          Imaginum       2005              82   \n",
       "\n",
       "                     genres  averageRating  \n",
       "0        Action,Crime,Drama            7.1  \n",
       "1               Crime,Drama            6.3  \n",
       "2                     Drama            7.0  \n",
       "3              Comedy,Drama            5.7  \n",
       "4  Animation,Family,Fantasy            4.3  "
      ]
     },
     "execution_count": 238,
     "metadata": {},
     "output_type": "execute_result"
    }
   ],
   "source": [
    "t_with_ratings.head()"
   ]
  },
  {
   "cell_type": "code",
   "execution_count": 248,
   "id": "fd806e74",
   "metadata": {},
   "outputs": [
    {
     "data": {
      "text/plain": [
       "0.7080495479348389"
      ]
     },
     "execution_count": 248,
     "metadata": {},
     "output_type": "execute_result"
    }
   ],
   "source": [
    "len(t_with_ratings.loc[t_with_ratings.averageRating < 7.0])/len(t_with_ratings) # 71% has a rating below 7.0"
   ]
  },
  {
   "cell_type": "code",
   "execution_count": 67,
   "id": "ba1d2303",
   "metadata": {},
   "outputs": [],
   "source": [
    "def unique_genres(column):\n",
    "    genres_set = set()\n",
    "    for entry in column:\n",
    "        list = entry.split(',')\n",
    "        for item in list:\n",
    "            genres_set.add(item.strip())\n",
    "    return genres_set"
   ]
  },
  {
   "cell_type": "code",
   "execution_count": 180,
   "id": "67a6088d",
   "metadata": {},
   "outputs": [],
   "source": [
    "genres = unique_genres(t_with_ratings.genres)"
   ]
  },
  {
   "cell_type": "code",
   "execution_count": 214,
   "id": "b03ce65b",
   "metadata": {},
   "outputs": [
    {
     "data": {
      "text/plain": [
       "27"
      ]
     },
     "execution_count": 214,
     "metadata": {},
     "output_type": "execute_result"
    }
   ],
   "source": [
    "len(genres)"
   ]
  },
  {
   "cell_type": "code",
   "execution_count": 70,
   "id": "3bbe7e5c",
   "metadata": {},
   "outputs": [
    {
     "name": "stdout",
     "output_type": "stream",
     "text": [
      "['Action', 'Documentary', 'Sport', 'War', 'Music', 'Talk-Show', 'Adult', 'Mystery', 'Reality-TV', 'Animation', 'Musical', 'Comedy', 'Adventure', 'Western', 'Film-Noir', 'Family', 'Drama', 'Horror', 'Romance', 'Crime', 'Biography', 'Fantasy', 'Sci-Fi', 'News', 'History', 'Thriller', 'Game-Show']\n"
     ]
    }
   ],
   "source": [
    "print(list(genres))"
   ]
  },
  {
   "cell_type": "code",
   "execution_count": 215,
   "id": "49f7edfc",
   "metadata": {},
   "outputs": [
    {
     "data": {
      "text/html": [
       "<div>\n",
       "<style scoped>\n",
       "    .dataframe tbody tr th:only-of-type {\n",
       "        vertical-align: middle;\n",
       "    }\n",
       "\n",
       "    .dataframe tbody tr th {\n",
       "        vertical-align: top;\n",
       "    }\n",
       "\n",
       "    .dataframe thead th {\n",
       "        text-align: right;\n",
       "    }\n",
       "</style>\n",
       "<table border=\"1\" class=\"dataframe\">\n",
       "  <thead>\n",
       "    <tr style=\"text-align: right;\">\n",
       "      <th></th>\n",
       "      <th>tconst</th>\n",
       "      <th>titleType</th>\n",
       "      <th>primaryTitle</th>\n",
       "      <th>startYear</th>\n",
       "      <th>runtimeMinutes</th>\n",
       "      <th>genres</th>\n",
       "      <th>averageRating</th>\n",
       "    </tr>\n",
       "  </thead>\n",
       "  <tbody>\n",
       "    <tr>\n",
       "      <th>9192</th>\n",
       "      <td>tt2236650</td>\n",
       "      <td>movie</td>\n",
       "      <td>Sheryl Crow: Live</td>\n",
       "      <td>2011</td>\n",
       "      <td>92</td>\n",
       "      <td>Music,Reality-TV</td>\n",
       "      <td>7.3</td>\n",
       "    </tr>\n",
       "    <tr>\n",
       "      <th>16718</th>\n",
       "      <td>tt3655682</td>\n",
       "      <td>movie</td>\n",
       "      <td>Let's Be Evil</td>\n",
       "      <td>2016</td>\n",
       "      <td>82</td>\n",
       "      <td>Horror,Reality-TV,Sci-Fi</td>\n",
       "      <td>4.3</td>\n",
       "    </tr>\n",
       "    <tr>\n",
       "      <th>17318</th>\n",
       "      <td>tt0374226</td>\n",
       "      <td>movie</td>\n",
       "      <td>Small Mall</td>\n",
       "      <td>2004</td>\n",
       "      <td>67</td>\n",
       "      <td>Comedy,Documentary,Reality-TV</td>\n",
       "      <td>7.4</td>\n",
       "    </tr>\n",
       "    <tr>\n",
       "      <th>18706</th>\n",
       "      <td>tt11934970</td>\n",
       "      <td>movie</td>\n",
       "      <td>Manchester United vs Manchester City</td>\n",
       "      <td>2020</td>\n",
       "      <td>100</td>\n",
       "      <td>Reality-TV</td>\n",
       "      <td>7.8</td>\n",
       "    </tr>\n",
       "    <tr>\n",
       "      <th>19596</th>\n",
       "      <td>tt13469602</td>\n",
       "      <td>movie</td>\n",
       "      <td>Zach Attacks: Costa Rica Especial</td>\n",
       "      <td>2018</td>\n",
       "      <td>70</td>\n",
       "      <td>Reality-TV</td>\n",
       "      <td>8.4</td>\n",
       "    </tr>\n",
       "  </tbody>\n",
       "</table>\n",
       "</div>"
      ],
      "text/plain": [
       "           tconst titleType                          primaryTitle  startYear  \\\n",
       "9192    tt2236650     movie                     Sheryl Crow: Live       2011   \n",
       "16718   tt3655682     movie                         Let's Be Evil       2016   \n",
       "17318   tt0374226     movie                            Small Mall       2004   \n",
       "18706  tt11934970     movie  Manchester United vs Manchester City       2020   \n",
       "19596  tt13469602     movie     Zach Attacks: Costa Rica Especial       2018   \n",
       "\n",
       "       runtimeMinutes                         genres  averageRating  \n",
       "9192               92               Music,Reality-TV            7.3  \n",
       "16718              82       Horror,Reality-TV,Sci-Fi            4.3  \n",
       "17318              67  Comedy,Documentary,Reality-TV            7.4  \n",
       "18706             100                     Reality-TV            7.8  \n",
       "19596              70                     Reality-TV            8.4  "
      ]
     },
     "execution_count": 215,
     "metadata": {},
     "output_type": "execute_result"
    }
   ],
   "source": [
    "t_with_ratings[t_with_ratings.genres.str.contains('Reality-TV')]"
   ]
  },
  {
   "cell_type": "code",
   "execution_count": 216,
   "id": "311e270b",
   "metadata": {},
   "outputs": [
    {
     "data": {
      "text/html": [
       "<div>\n",
       "<style scoped>\n",
       "    .dataframe tbody tr th:only-of-type {\n",
       "        vertical-align: middle;\n",
       "    }\n",
       "\n",
       "    .dataframe tbody tr th {\n",
       "        vertical-align: top;\n",
       "    }\n",
       "\n",
       "    .dataframe thead th {\n",
       "        text-align: right;\n",
       "    }\n",
       "</style>\n",
       "<table border=\"1\" class=\"dataframe\">\n",
       "  <thead>\n",
       "    <tr style=\"text-align: right;\">\n",
       "      <th></th>\n",
       "      <th>tconst</th>\n",
       "      <th>titleType</th>\n",
       "      <th>primaryTitle</th>\n",
       "      <th>startYear</th>\n",
       "      <th>runtimeMinutes</th>\n",
       "      <th>genres</th>\n",
       "      <th>averageRating</th>\n",
       "    </tr>\n",
       "  </thead>\n",
       "  <tbody>\n",
       "    <tr>\n",
       "      <th>12866</th>\n",
       "      <td>tt16585662</td>\n",
       "      <td>movie</td>\n",
       "      <td>Walking Craft - O Filme</td>\n",
       "      <td>2019</td>\n",
       "      <td>77</td>\n",
       "      <td>Adventure,Comedy,Game-Show</td>\n",
       "      <td>9.0</td>\n",
       "    </tr>\n",
       "  </tbody>\n",
       "</table>\n",
       "</div>"
      ],
      "text/plain": [
       "           tconst titleType             primaryTitle  startYear  \\\n",
       "12866  tt16585662     movie  Walking Craft - O Filme       2019   \n",
       "\n",
       "       runtimeMinutes                      genres  averageRating  \n",
       "12866              77  Adventure,Comedy,Game-Show            9.0  "
      ]
     },
     "execution_count": 216,
     "metadata": {},
     "output_type": "execute_result"
    }
   ],
   "source": [
    "t_with_ratings[t_with_ratings.genres.str.contains('Game-Show')]"
   ]
  },
  {
   "cell_type": "code",
   "execution_count": 217,
   "id": "2f1e8fe8",
   "metadata": {},
   "outputs": [
    {
     "data": {
      "text/html": [
       "<div>\n",
       "<style scoped>\n",
       "    .dataframe tbody tr th:only-of-type {\n",
       "        vertical-align: middle;\n",
       "    }\n",
       "\n",
       "    .dataframe tbody tr th {\n",
       "        vertical-align: top;\n",
       "    }\n",
       "\n",
       "    .dataframe thead th {\n",
       "        text-align: right;\n",
       "    }\n",
       "</style>\n",
       "<table border=\"1\" class=\"dataframe\">\n",
       "  <thead>\n",
       "    <tr style=\"text-align: right;\">\n",
       "      <th></th>\n",
       "      <th>tconst</th>\n",
       "      <th>titleType</th>\n",
       "      <th>primaryTitle</th>\n",
       "      <th>startYear</th>\n",
       "      <th>runtimeMinutes</th>\n",
       "      <th>genres</th>\n",
       "      <th>averageRating</th>\n",
       "    </tr>\n",
       "  </thead>\n",
       "  <tbody>\n",
       "    <tr>\n",
       "      <th>110</th>\n",
       "      <td>tt4242392</td>\n",
       "      <td>movie</td>\n",
       "      <td>Life is Waiting: Referendum and Resistance in ...</td>\n",
       "      <td>2015</td>\n",
       "      <td>61</td>\n",
       "      <td>Documentary,History,News</td>\n",
       "      <td>7.0</td>\n",
       "    </tr>\n",
       "    <tr>\n",
       "      <th>1084</th>\n",
       "      <td>tt9328986</td>\n",
       "      <td>movie</td>\n",
       "      <td>This Little Land of Mines</td>\n",
       "      <td>2019</td>\n",
       "      <td>64</td>\n",
       "      <td>Documentary,Drama,News</td>\n",
       "      <td>8.3</td>\n",
       "    </tr>\n",
       "    <tr>\n",
       "      <th>1366</th>\n",
       "      <td>tt3271310</td>\n",
       "      <td>movie</td>\n",
       "      <td>Revolution of the Present</td>\n",
       "      <td>2015</td>\n",
       "      <td>79</td>\n",
       "      <td>Documentary,History,News</td>\n",
       "      <td>7.0</td>\n",
       "    </tr>\n",
       "    <tr>\n",
       "      <th>2216</th>\n",
       "      <td>tt1633267</td>\n",
       "      <td>movie</td>\n",
       "      <td>The Very Worst Thing</td>\n",
       "      <td>2010</td>\n",
       "      <td>85</td>\n",
       "      <td>Documentary,History,News</td>\n",
       "      <td>8.2</td>\n",
       "    </tr>\n",
       "    <tr>\n",
       "      <th>2548</th>\n",
       "      <td>tt3283906</td>\n",
       "      <td>movie</td>\n",
       "      <td>The British Film Industry: Elitist, Deluded or...</td>\n",
       "      <td>2014</td>\n",
       "      <td>101</td>\n",
       "      <td>Documentary,History,News</td>\n",
       "      <td>6.4</td>\n",
       "    </tr>\n",
       "    <tr>\n",
       "      <th>...</th>\n",
       "      <td>...</td>\n",
       "      <td>...</td>\n",
       "      <td>...</td>\n",
       "      <td>...</td>\n",
       "      <td>...</td>\n",
       "      <td>...</td>\n",
       "      <td>...</td>\n",
       "    </tr>\n",
       "    <tr>\n",
       "      <th>22389</th>\n",
       "      <td>tt1776887</td>\n",
       "      <td>movie</td>\n",
       "      <td>Death by Medicine</td>\n",
       "      <td>2011</td>\n",
       "      <td>117</td>\n",
       "      <td>Documentary,News</td>\n",
       "      <td>6.3</td>\n",
       "    </tr>\n",
       "    <tr>\n",
       "      <th>23506</th>\n",
       "      <td>tt2574306</td>\n",
       "      <td>movie</td>\n",
       "      <td>A2-B-C: Hôshanô to kodomotachi</td>\n",
       "      <td>2013</td>\n",
       "      <td>71</td>\n",
       "      <td>Documentary,News</td>\n",
       "      <td>8.5</td>\n",
       "    </tr>\n",
       "    <tr>\n",
       "      <th>23963</th>\n",
       "      <td>tt1743943</td>\n",
       "      <td>movie</td>\n",
       "      <td>Libertopia</td>\n",
       "      <td>2010</td>\n",
       "      <td>87</td>\n",
       "      <td>Documentary,News</td>\n",
       "      <td>7.2</td>\n",
       "    </tr>\n",
       "    <tr>\n",
       "      <th>24120</th>\n",
       "      <td>tt3164056</td>\n",
       "      <td>movie</td>\n",
       "      <td>Brothers of the Black List</td>\n",
       "      <td>2014</td>\n",
       "      <td>74</td>\n",
       "      <td>Documentary,History,News</td>\n",
       "      <td>7.9</td>\n",
       "    </tr>\n",
       "    <tr>\n",
       "      <th>24916</th>\n",
       "      <td>tt1836763</td>\n",
       "      <td>movie</td>\n",
       "      <td>Bye Bye Blue Sky</td>\n",
       "      <td>2011</td>\n",
       "      <td>91</td>\n",
       "      <td>Documentary,News</td>\n",
       "      <td>5.2</td>\n",
       "    </tr>\n",
       "  </tbody>\n",
       "</table>\n",
       "<p>67 rows × 7 columns</p>\n",
       "</div>"
      ],
      "text/plain": [
       "          tconst titleType                                       primaryTitle  \\\n",
       "110    tt4242392     movie  Life is Waiting: Referendum and Resistance in ...   \n",
       "1084   tt9328986     movie                          This Little Land of Mines   \n",
       "1366   tt3271310     movie                          Revolution of the Present   \n",
       "2216   tt1633267     movie                               The Very Worst Thing   \n",
       "2548   tt3283906     movie  The British Film Industry: Elitist, Deluded or...   \n",
       "...          ...       ...                                                ...   \n",
       "22389  tt1776887     movie                                  Death by Medicine   \n",
       "23506  tt2574306     movie                     A2-B-C: Hôshanô to kodomotachi   \n",
       "23963  tt1743943     movie                                         Libertopia   \n",
       "24120  tt3164056     movie                         Brothers of the Black List   \n",
       "24916  tt1836763     movie                                   Bye Bye Blue Sky   \n",
       "\n",
       "       startYear  runtimeMinutes                    genres  averageRating  \n",
       "110         2015              61  Documentary,History,News            7.0  \n",
       "1084        2019              64    Documentary,Drama,News            8.3  \n",
       "1366        2015              79  Documentary,History,News            7.0  \n",
       "2216        2010              85  Documentary,History,News            8.2  \n",
       "2548        2014             101  Documentary,History,News            6.4  \n",
       "...          ...             ...                       ...            ...  \n",
       "22389       2011             117          Documentary,News            6.3  \n",
       "23506       2013              71          Documentary,News            8.5  \n",
       "23963       2010              87          Documentary,News            7.2  \n",
       "24120       2014              74  Documentary,History,News            7.9  \n",
       "24916       2011              91          Documentary,News            5.2  \n",
       "\n",
       "[67 rows x 7 columns]"
      ]
     },
     "execution_count": 217,
     "metadata": {},
     "output_type": "execute_result"
    }
   ],
   "source": [
    "t_with_ratings[t_with_ratings.genres.str.contains('News')] # 67 rows"
   ]
  },
  {
   "cell_type": "code",
   "execution_count": 74,
   "id": "3272bbe5",
   "metadata": {},
   "outputs": [],
   "source": [
    "with open('genres_list.json', 'w') as f:\n",
    "    json.dump(list(genres), f, indent=2)"
   ]
  },
  {
   "cell_type": "code",
   "execution_count": 246,
   "id": "d238921b",
   "metadata": {},
   "outputs": [],
   "source": [
    "_ = t_with_ratings.to_csv('titles_genres_ratings.csv', index=False)"
   ]
  },
  {
   "cell_type": "markdown",
   "id": "51f4d769",
   "metadata": {},
   "source": [
    "# Netflix\n",
    "data: https://www.kaggle.com/datasets/shivamb/netflix-shows \\\n",
    "columns: show_id, type, title, director, cast, country, date_added, release_year, rating, duration, listed_in, description"
   ]
  },
  {
   "cell_type": "code",
   "execution_count": 107,
   "id": "044cc429",
   "metadata": {},
   "outputs": [],
   "source": [
    "netflix = 'netflix_titles.csv'"
   ]
  },
  {
   "cell_type": "code",
   "execution_count": 183,
   "id": "775b35cb",
   "metadata": {},
   "outputs": [],
   "source": [
    "nf = pd.read_csv(netflix, usecols=['show_id', 'type', 'title', 'release_year', 'rating', 'duration', 'listed_in'])"
   ]
  },
  {
   "cell_type": "code",
   "execution_count": 138,
   "id": "e26dc7e7",
   "metadata": {},
   "outputs": [
    {
     "data": {
      "text/html": [
       "<div>\n",
       "<style scoped>\n",
       "    .dataframe tbody tr th:only-of-type {\n",
       "        vertical-align: middle;\n",
       "    }\n",
       "\n",
       "    .dataframe tbody tr th {\n",
       "        vertical-align: top;\n",
       "    }\n",
       "\n",
       "    .dataframe thead th {\n",
       "        text-align: right;\n",
       "    }\n",
       "</style>\n",
       "<table border=\"1\" class=\"dataframe\">\n",
       "  <thead>\n",
       "    <tr style=\"text-align: right;\">\n",
       "      <th></th>\n",
       "      <th>show_id</th>\n",
       "      <th>title</th>\n",
       "      <th>release_year</th>\n",
       "      <th>rating</th>\n",
       "      <th>duration</th>\n",
       "      <th>listed_in</th>\n",
       "    </tr>\n",
       "  </thead>\n",
       "  <tbody>\n",
       "    <tr>\n",
       "      <th>0</th>\n",
       "      <td>s1</td>\n",
       "      <td>Dick Johnson Is Dead</td>\n",
       "      <td>2020</td>\n",
       "      <td>PG-13</td>\n",
       "      <td>90</td>\n",
       "      <td>Documentaries</td>\n",
       "    </tr>\n",
       "    <tr>\n",
       "      <th>6</th>\n",
       "      <td>s7</td>\n",
       "      <td>My Little Pony: A New Generation</td>\n",
       "      <td>2021</td>\n",
       "      <td>PG</td>\n",
       "      <td>91</td>\n",
       "      <td>Children &amp; Family Movies</td>\n",
       "    </tr>\n",
       "    <tr>\n",
       "      <th>7</th>\n",
       "      <td>s8</td>\n",
       "      <td>Sankofa</td>\n",
       "      <td>1993</td>\n",
       "      <td>TV-MA</td>\n",
       "      <td>125</td>\n",
       "      <td>Dramas, Independent Movies, International Movies</td>\n",
       "    </tr>\n",
       "    <tr>\n",
       "      <th>9</th>\n",
       "      <td>s10</td>\n",
       "      <td>The Starling</td>\n",
       "      <td>2021</td>\n",
       "      <td>PG-13</td>\n",
       "      <td>104</td>\n",
       "      <td>Comedies, Dramas</td>\n",
       "    </tr>\n",
       "    <tr>\n",
       "      <th>12</th>\n",
       "      <td>s13</td>\n",
       "      <td>Je Suis Karl</td>\n",
       "      <td>2021</td>\n",
       "      <td>TV-MA</td>\n",
       "      <td>127</td>\n",
       "      <td>Dramas, International Movies</td>\n",
       "    </tr>\n",
       "  </tbody>\n",
       "</table>\n",
       "</div>"
      ],
      "text/plain": [
       "   show_id                             title  release_year rating  duration  \\\n",
       "0       s1              Dick Johnson Is Dead          2020  PG-13        90   \n",
       "6       s7  My Little Pony: A New Generation          2021     PG        91   \n",
       "7       s8                           Sankofa          1993  TV-MA       125   \n",
       "9      s10                      The Starling          2021  PG-13       104   \n",
       "12     s13                      Je Suis Karl          2021  TV-MA       127   \n",
       "\n",
       "                                           listed_in  \n",
       "0                                      Documentaries  \n",
       "6                           Children & Family Movies  \n",
       "7   Dramas, Independent Movies, International Movies  \n",
       "9                                   Comedies, Dramas  \n",
       "12                      Dramas, International Movies  "
      ]
     },
     "execution_count": 138,
     "metadata": {},
     "output_type": "execute_result"
    }
   ],
   "source": [
    "nf.head()"
   ]
  },
  {
   "cell_type": "code",
   "execution_count": 222,
   "id": "57a8de48",
   "metadata": {},
   "outputs": [
    {
     "name": "stdout",
     "output_type": "stream",
     "text": [
      "<class 'pandas.core.frame.DataFrame'>\n",
      "Int64Index: 6131 entries, 0 to 8806\n",
      "Data columns (total 6 columns):\n",
      " #   Column        Non-Null Count  Dtype \n",
      "---  ------        --------------  ----- \n",
      " 0   show_id       6131 non-null   object\n",
      " 1   title         6131 non-null   object\n",
      " 2   release_year  6131 non-null   int64 \n",
      " 3   rating        6129 non-null   object\n",
      " 4   duration      6131 non-null   int64 \n",
      " 5   listed_in     6131 non-null   object\n",
      "dtypes: int64(2), object(4)\n",
      "memory usage: 464.3+ KB\n"
     ]
    }
   ],
   "source": [
    "nf.info()"
   ]
  },
  {
   "cell_type": "code",
   "execution_count": 223,
   "id": "d7d509d1",
   "metadata": {},
   "outputs": [
    {
     "data": {
      "text/html": [
       "<div>\n",
       "<style scoped>\n",
       "    .dataframe tbody tr th:only-of-type {\n",
       "        vertical-align: middle;\n",
       "    }\n",
       "\n",
       "    .dataframe tbody tr th {\n",
       "        vertical-align: top;\n",
       "    }\n",
       "\n",
       "    .dataframe thead th {\n",
       "        text-align: right;\n",
       "    }\n",
       "</style>\n",
       "<table border=\"1\" class=\"dataframe\">\n",
       "  <thead>\n",
       "    <tr style=\"text-align: right;\">\n",
       "      <th></th>\n",
       "      <th>release_year</th>\n",
       "      <th>duration</th>\n",
       "    </tr>\n",
       "  </thead>\n",
       "  <tbody>\n",
       "    <tr>\n",
       "      <th>count</th>\n",
       "      <td>6131.000000</td>\n",
       "      <td>6131.000000</td>\n",
       "    </tr>\n",
       "    <tr>\n",
       "      <th>mean</th>\n",
       "      <td>2013.121514</td>\n",
       "      <td>99.564998</td>\n",
       "    </tr>\n",
       "    <tr>\n",
       "      <th>std</th>\n",
       "      <td>9.678169</td>\n",
       "      <td>28.289504</td>\n",
       "    </tr>\n",
       "    <tr>\n",
       "      <th>min</th>\n",
       "      <td>1942.000000</td>\n",
       "      <td>3.000000</td>\n",
       "    </tr>\n",
       "    <tr>\n",
       "      <th>25%</th>\n",
       "      <td>2012.000000</td>\n",
       "      <td>87.000000</td>\n",
       "    </tr>\n",
       "    <tr>\n",
       "      <th>50%</th>\n",
       "      <td>2016.000000</td>\n",
       "      <td>98.000000</td>\n",
       "    </tr>\n",
       "    <tr>\n",
       "      <th>75%</th>\n",
       "      <td>2018.000000</td>\n",
       "      <td>114.000000</td>\n",
       "    </tr>\n",
       "    <tr>\n",
       "      <th>max</th>\n",
       "      <td>2021.000000</td>\n",
       "      <td>312.000000</td>\n",
       "    </tr>\n",
       "  </tbody>\n",
       "</table>\n",
       "</div>"
      ],
      "text/plain": [
       "       release_year     duration\n",
       "count   6131.000000  6131.000000\n",
       "mean    2013.121514    99.564998\n",
       "std        9.678169    28.289504\n",
       "min     1942.000000     3.000000\n",
       "25%     2012.000000    87.000000\n",
       "50%     2016.000000    98.000000\n",
       "75%     2018.000000   114.000000\n",
       "max     2021.000000   312.000000"
      ]
     },
     "execution_count": 223,
     "metadata": {},
     "output_type": "execute_result"
    }
   ],
   "source": [
    "nf.describe()"
   ]
  },
  {
   "cell_type": "code",
   "execution_count": 185,
   "id": "d076772d",
   "metadata": {},
   "outputs": [],
   "source": [
    "# drop TV Show\n",
    "nf.drop(nf[nf.type == 'TV Show'].index, inplace=True)"
   ]
  },
  {
   "cell_type": "code",
   "execution_count": 187,
   "id": "94f7620e",
   "metadata": {
    "collapsed": true
   },
   "outputs": [
    {
     "ename": "KeyError",
     "evalue": "\"['type'] not found in axis\"",
     "output_type": "error",
     "traceback": [
      "\u001b[1;31m---------------------------------------------------------------------------\u001b[0m",
      "\u001b[1;31mKeyError\u001b[0m                                  Traceback (most recent call last)",
      "\u001b[1;32m~\\AppData\\Local\\Temp/ipykernel_17732/3217222041.py\u001b[0m in \u001b[0;36m<module>\u001b[1;34m\u001b[0m\n\u001b[1;32m----> 1\u001b[1;33m \u001b[0mnf\u001b[0m\u001b[1;33m.\u001b[0m\u001b[0mdrop\u001b[0m\u001b[1;33m(\u001b[0m\u001b[1;33m[\u001b[0m\u001b[1;34m'type'\u001b[0m\u001b[1;33m]\u001b[0m\u001b[1;33m,\u001b[0m \u001b[0maxis\u001b[0m\u001b[1;33m=\u001b[0m\u001b[1;36m1\u001b[0m\u001b[1;33m,\u001b[0m \u001b[0minplace\u001b[0m\u001b[1;33m=\u001b[0m\u001b[1;32mTrue\u001b[0m\u001b[1;33m)\u001b[0m\u001b[1;33m\u001b[0m\u001b[1;33m\u001b[0m\u001b[0m\n\u001b[0m",
      "\u001b[1;32m~\\anaconda3\\lib\\site-packages\\pandas\\util\\_decorators.py\u001b[0m in \u001b[0;36mwrapper\u001b[1;34m(*args, **kwargs)\u001b[0m\n\u001b[0;32m    309\u001b[0m                     \u001b[0mstacklevel\u001b[0m\u001b[1;33m=\u001b[0m\u001b[0mstacklevel\u001b[0m\u001b[1;33m,\u001b[0m\u001b[1;33m\u001b[0m\u001b[1;33m\u001b[0m\u001b[0m\n\u001b[0;32m    310\u001b[0m                 )\n\u001b[1;32m--> 311\u001b[1;33m             \u001b[1;32mreturn\u001b[0m \u001b[0mfunc\u001b[0m\u001b[1;33m(\u001b[0m\u001b[1;33m*\u001b[0m\u001b[0margs\u001b[0m\u001b[1;33m,\u001b[0m \u001b[1;33m**\u001b[0m\u001b[0mkwargs\u001b[0m\u001b[1;33m)\u001b[0m\u001b[1;33m\u001b[0m\u001b[1;33m\u001b[0m\u001b[0m\n\u001b[0m\u001b[0;32m    312\u001b[0m \u001b[1;33m\u001b[0m\u001b[0m\n\u001b[0;32m    313\u001b[0m         \u001b[1;32mreturn\u001b[0m \u001b[0mwrapper\u001b[0m\u001b[1;33m\u001b[0m\u001b[1;33m\u001b[0m\u001b[0m\n",
      "\u001b[1;32m~\\anaconda3\\lib\\site-packages\\pandas\\core\\frame.py\u001b[0m in \u001b[0;36mdrop\u001b[1;34m(self, labels, axis, index, columns, level, inplace, errors)\u001b[0m\n\u001b[0;32m   4904\u001b[0m                 \u001b[0mweight\u001b[0m  \u001b[1;36m1.0\u001b[0m     \u001b[1;36m0.8\u001b[0m\u001b[1;33m\u001b[0m\u001b[1;33m\u001b[0m\u001b[0m\n\u001b[0;32m   4905\u001b[0m         \"\"\"\n\u001b[1;32m-> 4906\u001b[1;33m         return super().drop(\n\u001b[0m\u001b[0;32m   4907\u001b[0m             \u001b[0mlabels\u001b[0m\u001b[1;33m=\u001b[0m\u001b[0mlabels\u001b[0m\u001b[1;33m,\u001b[0m\u001b[1;33m\u001b[0m\u001b[1;33m\u001b[0m\u001b[0m\n\u001b[0;32m   4908\u001b[0m             \u001b[0maxis\u001b[0m\u001b[1;33m=\u001b[0m\u001b[0maxis\u001b[0m\u001b[1;33m,\u001b[0m\u001b[1;33m\u001b[0m\u001b[1;33m\u001b[0m\u001b[0m\n",
      "\u001b[1;32m~\\anaconda3\\lib\\site-packages\\pandas\\core\\generic.py\u001b[0m in \u001b[0;36mdrop\u001b[1;34m(self, labels, axis, index, columns, level, inplace, errors)\u001b[0m\n\u001b[0;32m   4148\u001b[0m         \u001b[1;32mfor\u001b[0m \u001b[0maxis\u001b[0m\u001b[1;33m,\u001b[0m \u001b[0mlabels\u001b[0m \u001b[1;32min\u001b[0m \u001b[0maxes\u001b[0m\u001b[1;33m.\u001b[0m\u001b[0mitems\u001b[0m\u001b[1;33m(\u001b[0m\u001b[1;33m)\u001b[0m\u001b[1;33m:\u001b[0m\u001b[1;33m\u001b[0m\u001b[1;33m\u001b[0m\u001b[0m\n\u001b[0;32m   4149\u001b[0m             \u001b[1;32mif\u001b[0m \u001b[0mlabels\u001b[0m \u001b[1;32mis\u001b[0m \u001b[1;32mnot\u001b[0m \u001b[1;32mNone\u001b[0m\u001b[1;33m:\u001b[0m\u001b[1;33m\u001b[0m\u001b[1;33m\u001b[0m\u001b[0m\n\u001b[1;32m-> 4150\u001b[1;33m                 \u001b[0mobj\u001b[0m \u001b[1;33m=\u001b[0m \u001b[0mobj\u001b[0m\u001b[1;33m.\u001b[0m\u001b[0m_drop_axis\u001b[0m\u001b[1;33m(\u001b[0m\u001b[0mlabels\u001b[0m\u001b[1;33m,\u001b[0m \u001b[0maxis\u001b[0m\u001b[1;33m,\u001b[0m \u001b[0mlevel\u001b[0m\u001b[1;33m=\u001b[0m\u001b[0mlevel\u001b[0m\u001b[1;33m,\u001b[0m \u001b[0merrors\u001b[0m\u001b[1;33m=\u001b[0m\u001b[0merrors\u001b[0m\u001b[1;33m)\u001b[0m\u001b[1;33m\u001b[0m\u001b[1;33m\u001b[0m\u001b[0m\n\u001b[0m\u001b[0;32m   4151\u001b[0m \u001b[1;33m\u001b[0m\u001b[0m\n\u001b[0;32m   4152\u001b[0m         \u001b[1;32mif\u001b[0m \u001b[0minplace\u001b[0m\u001b[1;33m:\u001b[0m\u001b[1;33m\u001b[0m\u001b[1;33m\u001b[0m\u001b[0m\n",
      "\u001b[1;32m~\\anaconda3\\lib\\site-packages\\pandas\\core\\generic.py\u001b[0m in \u001b[0;36m_drop_axis\u001b[1;34m(self, labels, axis, level, errors)\u001b[0m\n\u001b[0;32m   4183\u001b[0m                 \u001b[0mnew_axis\u001b[0m \u001b[1;33m=\u001b[0m \u001b[0maxis\u001b[0m\u001b[1;33m.\u001b[0m\u001b[0mdrop\u001b[0m\u001b[1;33m(\u001b[0m\u001b[0mlabels\u001b[0m\u001b[1;33m,\u001b[0m \u001b[0mlevel\u001b[0m\u001b[1;33m=\u001b[0m\u001b[0mlevel\u001b[0m\u001b[1;33m,\u001b[0m \u001b[0merrors\u001b[0m\u001b[1;33m=\u001b[0m\u001b[0merrors\u001b[0m\u001b[1;33m)\u001b[0m\u001b[1;33m\u001b[0m\u001b[1;33m\u001b[0m\u001b[0m\n\u001b[0;32m   4184\u001b[0m             \u001b[1;32melse\u001b[0m\u001b[1;33m:\u001b[0m\u001b[1;33m\u001b[0m\u001b[1;33m\u001b[0m\u001b[0m\n\u001b[1;32m-> 4185\u001b[1;33m                 \u001b[0mnew_axis\u001b[0m \u001b[1;33m=\u001b[0m \u001b[0maxis\u001b[0m\u001b[1;33m.\u001b[0m\u001b[0mdrop\u001b[0m\u001b[1;33m(\u001b[0m\u001b[0mlabels\u001b[0m\u001b[1;33m,\u001b[0m \u001b[0merrors\u001b[0m\u001b[1;33m=\u001b[0m\u001b[0merrors\u001b[0m\u001b[1;33m)\u001b[0m\u001b[1;33m\u001b[0m\u001b[1;33m\u001b[0m\u001b[0m\n\u001b[0m\u001b[0;32m   4186\u001b[0m             \u001b[0mresult\u001b[0m \u001b[1;33m=\u001b[0m \u001b[0mself\u001b[0m\u001b[1;33m.\u001b[0m\u001b[0mreindex\u001b[0m\u001b[1;33m(\u001b[0m\u001b[1;33m**\u001b[0m\u001b[1;33m{\u001b[0m\u001b[0maxis_name\u001b[0m\u001b[1;33m:\u001b[0m \u001b[0mnew_axis\u001b[0m\u001b[1;33m}\u001b[0m\u001b[1;33m)\u001b[0m\u001b[1;33m\u001b[0m\u001b[1;33m\u001b[0m\u001b[0m\n\u001b[0;32m   4187\u001b[0m \u001b[1;33m\u001b[0m\u001b[0m\n",
      "\u001b[1;32m~\\anaconda3\\lib\\site-packages\\pandas\\core\\indexes\\base.py\u001b[0m in \u001b[0;36mdrop\u001b[1;34m(self, labels, errors)\u001b[0m\n\u001b[0;32m   6015\u001b[0m         \u001b[1;32mif\u001b[0m \u001b[0mmask\u001b[0m\u001b[1;33m.\u001b[0m\u001b[0many\u001b[0m\u001b[1;33m(\u001b[0m\u001b[1;33m)\u001b[0m\u001b[1;33m:\u001b[0m\u001b[1;33m\u001b[0m\u001b[1;33m\u001b[0m\u001b[0m\n\u001b[0;32m   6016\u001b[0m             \u001b[1;32mif\u001b[0m \u001b[0merrors\u001b[0m \u001b[1;33m!=\u001b[0m \u001b[1;34m\"ignore\"\u001b[0m\u001b[1;33m:\u001b[0m\u001b[1;33m\u001b[0m\u001b[1;33m\u001b[0m\u001b[0m\n\u001b[1;32m-> 6017\u001b[1;33m                 \u001b[1;32mraise\u001b[0m \u001b[0mKeyError\u001b[0m\u001b[1;33m(\u001b[0m\u001b[1;34mf\"{labels[mask]} not found in axis\"\u001b[0m\u001b[1;33m)\u001b[0m\u001b[1;33m\u001b[0m\u001b[1;33m\u001b[0m\u001b[0m\n\u001b[0m\u001b[0;32m   6018\u001b[0m             \u001b[0mindexer\u001b[0m \u001b[1;33m=\u001b[0m \u001b[0mindexer\u001b[0m\u001b[1;33m[\u001b[0m\u001b[1;33m~\u001b[0m\u001b[0mmask\u001b[0m\u001b[1;33m]\u001b[0m\u001b[1;33m\u001b[0m\u001b[1;33m\u001b[0m\u001b[0m\n\u001b[0;32m   6019\u001b[0m         \u001b[1;32mreturn\u001b[0m \u001b[0mself\u001b[0m\u001b[1;33m.\u001b[0m\u001b[0mdelete\u001b[0m\u001b[1;33m(\u001b[0m\u001b[0mindexer\u001b[0m\u001b[1;33m)\u001b[0m\u001b[1;33m\u001b[0m\u001b[1;33m\u001b[0m\u001b[0m\n",
      "\u001b[1;31mKeyError\u001b[0m: \"['type'] not found in axis\""
     ]
    }
   ],
   "source": [
    "nf.drop(['type'], axis=1, inplace=True)"
   ]
  },
  {
   "cell_type": "code",
   "execution_count": 218,
   "id": "3f1f465a",
   "metadata": {},
   "outputs": [],
   "source": [
    "listed_in = unique_genres(nf.listed_in)"
   ]
  },
  {
   "cell_type": "code",
   "execution_count": 219,
   "id": "bc3298b0",
   "metadata": {},
   "outputs": [
    {
     "data": {
      "text/plain": [
       "20"
      ]
     },
     "execution_count": 219,
     "metadata": {},
     "output_type": "execute_result"
    }
   ],
   "source": [
    "len(listed_in)"
   ]
  },
  {
   "cell_type": "code",
   "execution_count": 220,
   "id": "3f24b895",
   "metadata": {},
   "outputs": [
    {
     "name": "stdout",
     "output_type": "stream",
     "text": [
      "{'Dramas', 'Children & Family Movies', 'LGBTQ Movies', 'Thrillers', 'Independent Movies', 'Sports Movies', 'Faith & Spirituality', 'Classic Movies', 'Movies', 'Music & Musicals', 'Horror Movies', 'Documentaries', 'Cult Movies', 'Stand-Up Comedy', 'Comedies', 'Anime Features', 'Romantic Movies', 'Sci-Fi & Fantasy', 'International Movies', 'Action & Adventure'}\n"
     ]
    }
   ],
   "source": [
    "print(listed_in)"
   ]
  },
  {
   "cell_type": "code",
   "execution_count": 85,
   "id": "d83827a9",
   "metadata": {},
   "outputs": [],
   "source": [
    "with open('netflix_listed_in.json', 'w') as f:\n",
    "    json.dump(list(listed_in), f, indent=2)"
   ]
  },
  {
   "cell_type": "code",
   "execution_count": 221,
   "id": "e6b88e2b",
   "metadata": {},
   "outputs": [
    {
     "data": {
      "text/plain": [
       "1942"
      ]
     },
     "execution_count": 221,
     "metadata": {},
     "output_type": "execute_result"
    }
   ],
   "source": [
    "nf.release_year.min()"
   ]
  },
  {
   "cell_type": "code",
   "execution_count": 188,
   "id": "cdcf8e9c",
   "metadata": {},
   "outputs": [],
   "source": [
    "# restore misplaced duration values for show_id= 's5542', 's5795', 's5814'\n",
    "nf.loc[nf.duration.isnull(), ['duration']] = nf.rating"
   ]
  },
  {
   "cell_type": "code",
   "execution_count": 189,
   "id": "2b5b35d9",
   "metadata": {},
   "outputs": [],
   "source": [
    "nf['duration'] = nf.duration.str.split(' ', expand=True)[0].astype('int64')"
   ]
  },
  {
   "cell_type": "code",
   "execution_count": 227,
   "id": "0b56b769",
   "metadata": {},
   "outputs": [
    {
     "data": {
      "text/html": [
       "<div>\n",
       "<style scoped>\n",
       "    .dataframe tbody tr th:only-of-type {\n",
       "        vertical-align: middle;\n",
       "    }\n",
       "\n",
       "    .dataframe tbody tr th {\n",
       "        vertical-align: top;\n",
       "    }\n",
       "\n",
       "    .dataframe thead th {\n",
       "        text-align: right;\n",
       "    }\n",
       "</style>\n",
       "<table border=\"1\" class=\"dataframe\">\n",
       "  <thead>\n",
       "    <tr style=\"text-align: right;\">\n",
       "      <th></th>\n",
       "      <th>show_id</th>\n",
       "      <th>title</th>\n",
       "      <th>release_year</th>\n",
       "      <th>rating</th>\n",
       "      <th>duration</th>\n",
       "      <th>listed_in</th>\n",
       "    </tr>\n",
       "  </thead>\n",
       "  <tbody>\n",
       "    <tr>\n",
       "      <th>5989</th>\n",
       "      <td>s5990</td>\n",
       "      <td>13TH: A Conversation with Oprah Winfrey &amp; Ava ...</td>\n",
       "      <td>2017</td>\n",
       "      <td>NaN</td>\n",
       "      <td>37</td>\n",
       "      <td>Movies</td>\n",
       "    </tr>\n",
       "    <tr>\n",
       "      <th>7537</th>\n",
       "      <td>s7538</td>\n",
       "      <td>My Honor Was Loyalty</td>\n",
       "      <td>2015</td>\n",
       "      <td>NaN</td>\n",
       "      <td>115</td>\n",
       "      <td>Dramas</td>\n",
       "    </tr>\n",
       "  </tbody>\n",
       "</table>\n",
       "</div>"
      ],
      "text/plain": [
       "     show_id                                              title  release_year  \\\n",
       "5989   s5990  13TH: A Conversation with Oprah Winfrey & Ava ...          2017   \n",
       "7537   s7538                               My Honor Was Loyalty          2015   \n",
       "\n",
       "     rating  duration listed_in  \n",
       "5989    NaN        37    Movies  \n",
       "7537    NaN       115    Dramas  "
      ]
     },
     "execution_count": 227,
     "metadata": {},
     "output_type": "execute_result"
    }
   ],
   "source": [
    "nf.loc[nf.rating.isnull()]"
   ]
  },
  {
   "cell_type": "code",
   "execution_count": 224,
   "id": "63bbfc5d",
   "metadata": {},
   "outputs": [
    {
     "data": {
      "text/html": [
       "<div>\n",
       "<style scoped>\n",
       "    .dataframe tbody tr th:only-of-type {\n",
       "        vertical-align: middle;\n",
       "    }\n",
       "\n",
       "    .dataframe tbody tr th {\n",
       "        vertical-align: top;\n",
       "    }\n",
       "\n",
       "    .dataframe thead th {\n",
       "        text-align: right;\n",
       "    }\n",
       "</style>\n",
       "<table border=\"1\" class=\"dataframe\">\n",
       "  <thead>\n",
       "    <tr style=\"text-align: right;\">\n",
       "      <th></th>\n",
       "      <th>show_id</th>\n",
       "      <th>title</th>\n",
       "      <th>release_year</th>\n",
       "      <th>rating</th>\n",
       "      <th>duration</th>\n",
       "      <th>listed_in</th>\n",
       "    </tr>\n",
       "  </thead>\n",
       "  <tbody>\n",
       "    <tr>\n",
       "      <th>45</th>\n",
       "      <td>s46</td>\n",
       "      <td>My Heroes Were Cowboys</td>\n",
       "      <td>2021</td>\n",
       "      <td>PG</td>\n",
       "      <td>23</td>\n",
       "      <td>Documentaries</td>\n",
       "    </tr>\n",
       "    <tr>\n",
       "      <th>71</th>\n",
       "      <td>s72</td>\n",
       "      <td>A StoryBots Space Adventure</td>\n",
       "      <td>2021</td>\n",
       "      <td>TV-Y</td>\n",
       "      <td>13</td>\n",
       "      <td>Children &amp; Family Movies</td>\n",
       "    </tr>\n",
       "    <tr>\n",
       "      <th>77</th>\n",
       "      <td>s78</td>\n",
       "      <td>Little Singham - Black Shadow</td>\n",
       "      <td>2021</td>\n",
       "      <td>TV-Y7</td>\n",
       "      <td>48</td>\n",
       "      <td>Children &amp; Family Movies, Comedies</td>\n",
       "    </tr>\n",
       "    <tr>\n",
       "      <th>470</th>\n",
       "      <td>s471</td>\n",
       "      <td>Bridgerton - The Afterparty</td>\n",
       "      <td>2021</td>\n",
       "      <td>TV-14</td>\n",
       "      <td>39</td>\n",
       "      <td>Movies</td>\n",
       "    </tr>\n",
       "    <tr>\n",
       "      <th>484</th>\n",
       "      <td>s485</td>\n",
       "      <td>Lee Su-geun: The Sense Coach</td>\n",
       "      <td>2021</td>\n",
       "      <td>TV-G</td>\n",
       "      <td>46</td>\n",
       "      <td>Stand-Up Comedy</td>\n",
       "    </tr>\n",
       "    <tr>\n",
       "      <th>...</th>\n",
       "      <td>...</td>\n",
       "      <td>...</td>\n",
       "      <td>...</td>\n",
       "      <td>...</td>\n",
       "      <td>...</td>\n",
       "      <td>...</td>\n",
       "    </tr>\n",
       "    <tr>\n",
       "      <th>8587</th>\n",
       "      <td>s8588</td>\n",
       "      <td>Thunderbolt</td>\n",
       "      <td>1947</td>\n",
       "      <td>TV-PG</td>\n",
       "      <td>42</td>\n",
       "      <td>Classic Movies, Documentaries</td>\n",
       "    </tr>\n",
       "    <tr>\n",
       "      <th>8657</th>\n",
       "      <td>s8658</td>\n",
       "      <td>Under an Arctic Sky</td>\n",
       "      <td>2017</td>\n",
       "      <td>TV-14</td>\n",
       "      <td>40</td>\n",
       "      <td>Action &amp; Adventure, Documentaries, Sports Movies</td>\n",
       "    </tr>\n",
       "    <tr>\n",
       "      <th>8707</th>\n",
       "      <td>s8708</td>\n",
       "      <td>We, the Marines</td>\n",
       "      <td>2017</td>\n",
       "      <td>TV-PG</td>\n",
       "      <td>38</td>\n",
       "      <td>Documentaries, International Movies</td>\n",
       "    </tr>\n",
       "    <tr>\n",
       "      <th>8759</th>\n",
       "      <td>s8760</td>\n",
       "      <td>World's Weirdest Homes</td>\n",
       "      <td>2015</td>\n",
       "      <td>TV-PG</td>\n",
       "      <td>49</td>\n",
       "      <td>Movies</td>\n",
       "    </tr>\n",
       "    <tr>\n",
       "      <th>8763</th>\n",
       "      <td>s8764</td>\n",
       "      <td>WWII: Report from the Aleutians</td>\n",
       "      <td>1943</td>\n",
       "      <td>TV-PG</td>\n",
       "      <td>45</td>\n",
       "      <td>Documentaries</td>\n",
       "    </tr>\n",
       "  </tbody>\n",
       "</table>\n",
       "<p>277 rows × 6 columns</p>\n",
       "</div>"
      ],
      "text/plain": [
       "     show_id                            title  release_year rating  duration  \\\n",
       "45       s46           My Heroes Were Cowboys          2021     PG        23   \n",
       "71       s72      A StoryBots Space Adventure          2021   TV-Y        13   \n",
       "77       s78    Little Singham - Black Shadow          2021  TV-Y7        48   \n",
       "470     s471      Bridgerton - The Afterparty          2021  TV-14        39   \n",
       "484     s485     Lee Su-geun: The Sense Coach          2021   TV-G        46   \n",
       "...      ...                              ...           ...    ...       ...   \n",
       "8587   s8588                      Thunderbolt          1947  TV-PG        42   \n",
       "8657   s8658              Under an Arctic Sky          2017  TV-14        40   \n",
       "8707   s8708                  We, the Marines          2017  TV-PG        38   \n",
       "8759   s8760           World's Weirdest Homes          2015  TV-PG        49   \n",
       "8763   s8764  WWII: Report from the Aleutians          1943  TV-PG        45   \n",
       "\n",
       "                                             listed_in  \n",
       "45                                       Documentaries  \n",
       "71                            Children & Family Movies  \n",
       "77                  Children & Family Movies, Comedies  \n",
       "470                                             Movies  \n",
       "484                                    Stand-Up Comedy  \n",
       "...                                                ...  \n",
       "8587                     Classic Movies, Documentaries  \n",
       "8657  Action & Adventure, Documentaries, Sports Movies  \n",
       "8707               Documentaries, International Movies  \n",
       "8759                                            Movies  \n",
       "8763                                     Documentaries  \n",
       "\n",
       "[277 rows x 6 columns]"
      ]
     },
     "execution_count": 224,
     "metadata": {},
     "output_type": "execute_result"
    }
   ],
   "source": [
    "nf.loc[nf.duration < 50] # 277 rows"
   ]
  },
  {
   "cell_type": "markdown",
   "id": "38039c32",
   "metadata": {},
   "source": [
    "# Netflix & IMDB"
   ]
  },
  {
   "cell_type": "code",
   "execution_count": 239,
   "id": "016aa353",
   "metadata": {},
   "outputs": [],
   "source": [
    "nf_imdb = nf.merge(t_with_ratings, \n",
    "                   how='inner', \n",
    "                   left_on=['title', 'release_year'], \n",
    "                   right_on=['primaryTitle', 'startYear'])"
   ]
  },
  {
   "cell_type": "code",
   "execution_count": 240,
   "id": "0427858a",
   "metadata": {},
   "outputs": [
    {
     "data": {
      "text/html": [
       "<div>\n",
       "<style scoped>\n",
       "    .dataframe tbody tr th:only-of-type {\n",
       "        vertical-align: middle;\n",
       "    }\n",
       "\n",
       "    .dataframe tbody tr th {\n",
       "        vertical-align: top;\n",
       "    }\n",
       "\n",
       "    .dataframe thead th {\n",
       "        text-align: right;\n",
       "    }\n",
       "</style>\n",
       "<table border=\"1\" class=\"dataframe\">\n",
       "  <thead>\n",
       "    <tr style=\"text-align: right;\">\n",
       "      <th></th>\n",
       "      <th>show_id</th>\n",
       "      <th>title</th>\n",
       "      <th>release_year</th>\n",
       "      <th>rating</th>\n",
       "      <th>duration</th>\n",
       "      <th>listed_in</th>\n",
       "      <th>tconst</th>\n",
       "      <th>primaryTitle</th>\n",
       "      <th>startYear</th>\n",
       "      <th>runtimeMinutes</th>\n",
       "      <th>genres</th>\n",
       "      <th>averageRating</th>\n",
       "    </tr>\n",
       "  </thead>\n",
       "  <tbody>\n",
       "    <tr>\n",
       "      <th>0</th>\n",
       "      <td>s36</td>\n",
       "      <td>The Father Who Moves Mountains</td>\n",
       "      <td>2021</td>\n",
       "      <td>TV-MA</td>\n",
       "      <td>110</td>\n",
       "      <td>Dramas, International Movies, Thrillers</td>\n",
       "      <td>tt8886670</td>\n",
       "      <td>The Father Who Moves Mountains</td>\n",
       "      <td>2021</td>\n",
       "      <td>108</td>\n",
       "      <td>Drama,Thriller</td>\n",
       "      <td>5.6</td>\n",
       "    </tr>\n",
       "    <tr>\n",
       "      <th>1</th>\n",
       "      <td>s89</td>\n",
       "      <td>Blood Brothers: Malcolm X &amp; Muhammad Ali</td>\n",
       "      <td>2021</td>\n",
       "      <td>PG-13</td>\n",
       "      <td>96</td>\n",
       "      <td>Documentaries, Sports Movies</td>\n",
       "      <td>tt15095938</td>\n",
       "      <td>Blood Brothers: Malcolm X &amp; Muhammad Ali</td>\n",
       "      <td>2021</td>\n",
       "      <td>95</td>\n",
       "      <td>Biography,Documentary,History</td>\n",
       "      <td>6.9</td>\n",
       "    </tr>\n",
       "    <tr>\n",
       "      <th>2</th>\n",
       "      <td>s92</td>\n",
       "      <td>The Women and the Murderer</td>\n",
       "      <td>2021</td>\n",
       "      <td>TV-14</td>\n",
       "      <td>92</td>\n",
       "      <td>Documentaries, International Movies</td>\n",
       "      <td>tt15216504</td>\n",
       "      <td>The Women and the Murderer</td>\n",
       "      <td>2021</td>\n",
       "      <td>92</td>\n",
       "      <td>Crime,Documentary</td>\n",
       "      <td>6.4</td>\n",
       "    </tr>\n",
       "    <tr>\n",
       "      <th>3</th>\n",
       "      <td>s139</td>\n",
       "      <td>Dear John</td>\n",
       "      <td>2010</td>\n",
       "      <td>PG-13</td>\n",
       "      <td>108</td>\n",
       "      <td>Dramas, Romantic Movies</td>\n",
       "      <td>tt0989757</td>\n",
       "      <td>Dear John</td>\n",
       "      <td>2010</td>\n",
       "      <td>108</td>\n",
       "      <td>Drama,Mystery,Romance</td>\n",
       "      <td>6.3</td>\n",
       "    </tr>\n",
       "    <tr>\n",
       "      <th>4</th>\n",
       "      <td>s146</td>\n",
       "      <td>House Party 2</td>\n",
       "      <td>1991</td>\n",
       "      <td>R</td>\n",
       "      <td>94</td>\n",
       "      <td>Comedies, Cult Movies, Music &amp; Musicals</td>\n",
       "      <td>tt0102065</td>\n",
       "      <td>House Party 2</td>\n",
       "      <td>1991</td>\n",
       "      <td>94</td>\n",
       "      <td>Comedy,Drama,Music</td>\n",
       "      <td>5.2</td>\n",
       "    </tr>\n",
       "  </tbody>\n",
       "</table>\n",
       "</div>"
      ],
      "text/plain": [
       "  show_id                                     title  release_year rating  \\\n",
       "0     s36            The Father Who Moves Mountains          2021  TV-MA   \n",
       "1     s89  Blood Brothers: Malcolm X & Muhammad Ali          2021  PG-13   \n",
       "2     s92                The Women and the Murderer          2021  TV-14   \n",
       "3    s139                                 Dear John          2010  PG-13   \n",
       "4    s146                             House Party 2          1991      R   \n",
       "\n",
       "   duration                                listed_in      tconst  \\\n",
       "0       110  Dramas, International Movies, Thrillers   tt8886670   \n",
       "1        96             Documentaries, Sports Movies  tt15095938   \n",
       "2        92      Documentaries, International Movies  tt15216504   \n",
       "3       108                  Dramas, Romantic Movies   tt0989757   \n",
       "4        94  Comedies, Cult Movies, Music & Musicals   tt0102065   \n",
       "\n",
       "                               primaryTitle  startYear  runtimeMinutes  \\\n",
       "0            The Father Who Moves Mountains       2021             108   \n",
       "1  Blood Brothers: Malcolm X & Muhammad Ali       2021              95   \n",
       "2                The Women and the Murderer       2021              92   \n",
       "3                                 Dear John       2010             108   \n",
       "4                             House Party 2       1991              94   \n",
       "\n",
       "                          genres  averageRating  \n",
       "0                 Drama,Thriller            5.6  \n",
       "1  Biography,Documentary,History            6.9  \n",
       "2              Crime,Documentary            6.4  \n",
       "3          Drama,Mystery,Romance            6.3  \n",
       "4             Comedy,Drama,Music            5.2  "
      ]
     },
     "execution_count": 240,
     "metadata": {},
     "output_type": "execute_result"
    }
   ],
   "source": [
    "nf_imdb.head()"
   ]
  },
  {
   "cell_type": "code",
   "execution_count": 226,
   "id": "f0a188cc",
   "metadata": {},
   "outputs": [
    {
     "name": "stdout",
     "output_type": "stream",
     "text": [
      "<class 'pandas.core.frame.DataFrame'>\n",
      "Int64Index: 457 entries, 0 to 456\n",
      "Data columns (total 13 columns):\n",
      " #   Column          Non-Null Count  Dtype  \n",
      "---  ------          --------------  -----  \n",
      " 0   show_id         457 non-null    object \n",
      " 1   title           457 non-null    object \n",
      " 2   release_year    457 non-null    int64  \n",
      " 3   rating          457 non-null    object \n",
      " 4   duration        457 non-null    int64  \n",
      " 5   listed_in       457 non-null    object \n",
      " 6   tconst          457 non-null    object \n",
      " 7   titleType       457 non-null    object \n",
      " 8   primaryTitle    457 non-null    object \n",
      " 9   startYear       457 non-null    int64  \n",
      " 10  runtimeMinutes  457 non-null    int64  \n",
      " 11  genres          457 non-null    object \n",
      " 12  averageRating   457 non-null    float64\n",
      "dtypes: float64(1), int64(4), object(8)\n",
      "memory usage: 50.0+ KB\n"
     ]
    }
   ],
   "source": [
    "nf_imdb.info() # 457 with imdb rating & genres out of 6131 titles in netflix data"
   ]
  },
  {
   "cell_type": "code",
   "execution_count": 233,
   "id": "fef9cae4",
   "metadata": {},
   "outputs": [
    {
     "data": {
      "text/plain": [
       "13"
      ]
     },
     "execution_count": 233,
     "metadata": {},
     "output_type": "execute_result"
    }
   ],
   "source": [
    "len(nf_imdb.loc[abs(nf_imdb.duration - nf_imdb.runtimeMinutes > 10)]) # all refer to the same movies"
   ]
  },
  {
   "cell_type": "code",
   "execution_count": 242,
   "id": "9fe66dba",
   "metadata": {},
   "outputs": [],
   "source": [
    "nf_imdb.drop(['show_id', 'primaryTitle', 'startYear', 'runtimeMinutes'], axis=1, inplace=True)"
   ]
  },
  {
   "cell_type": "code",
   "execution_count": 245,
   "id": "efea7dae",
   "metadata": {},
   "outputs": [
    {
     "data": {
      "text/plain": [
       "0.7702407002188184"
      ]
     },
     "execution_count": 245,
     "metadata": {},
     "output_type": "execute_result"
    }
   ],
   "source": [
    "len(nf_imdb.loc[nf_imdb.averageRating < 7.0])/len(nf_imdb) # 77% has a rating below 7.0"
   ]
  },
  {
   "cell_type": "code",
   "execution_count": 247,
   "id": "2b9ec615",
   "metadata": {},
   "outputs": [],
   "source": [
    "_ = nf_imdb.to_csv('netflix_imdb.csv', index=False)"
   ]
  },
  {
   "cell_type": "code",
   "execution_count": 250,
   "id": "ce0afcd1",
   "metadata": {},
   "outputs": [
    {
     "data": {
      "text/html": [
       "<div>\n",
       "<style scoped>\n",
       "    .dataframe tbody tr th:only-of-type {\n",
       "        vertical-align: middle;\n",
       "    }\n",
       "\n",
       "    .dataframe tbody tr th {\n",
       "        vertical-align: top;\n",
       "    }\n",
       "\n",
       "    .dataframe thead th {\n",
       "        text-align: right;\n",
       "    }\n",
       "</style>\n",
       "<table border=\"1\" class=\"dataframe\">\n",
       "  <thead>\n",
       "    <tr style=\"text-align: right;\">\n",
       "      <th></th>\n",
       "      <th>title</th>\n",
       "      <th>release_year</th>\n",
       "      <th>rating</th>\n",
       "      <th>duration</th>\n",
       "      <th>listed_in</th>\n",
       "      <th>tconst</th>\n",
       "      <th>genres</th>\n",
       "      <th>averageRating</th>\n",
       "    </tr>\n",
       "  </thead>\n",
       "  <tbody>\n",
       "    <tr>\n",
       "      <th>8</th>\n",
       "      <td>Once Upon a Time in America</td>\n",
       "      <td>1984</td>\n",
       "      <td>R</td>\n",
       "      <td>229</td>\n",
       "      <td>Classic Movies, Dramas</td>\n",
       "      <td>tt0087843</td>\n",
       "      <td>Crime,Drama</td>\n",
       "      <td>8.3</td>\n",
       "    </tr>\n",
       "    <tr>\n",
       "      <th>13</th>\n",
       "      <td>Bombay</td>\n",
       "      <td>1995</td>\n",
       "      <td>TV-14</td>\n",
       "      <td>135</td>\n",
       "      <td>Dramas, International Movies, Romantic Movies</td>\n",
       "      <td>tt0112553</td>\n",
       "      <td>Drama,Romance</td>\n",
       "      <td>8.1</td>\n",
       "    </tr>\n",
       "    <tr>\n",
       "      <th>14</th>\n",
       "      <td>Untold: Malice at the Palace</td>\n",
       "      <td>2021</td>\n",
       "      <td>TV-MA</td>\n",
       "      <td>70</td>\n",
       "      <td>Documentaries, Sports Movies</td>\n",
       "      <td>tt15085802</td>\n",
       "      <td>Crime,Documentary,Sport</td>\n",
       "      <td>7.5</td>\n",
       "    </tr>\n",
       "    <tr>\n",
       "      <th>18</th>\n",
       "      <td>Fantastic Fungi</td>\n",
       "      <td>2019</td>\n",
       "      <td>TV-14</td>\n",
       "      <td>81</td>\n",
       "      <td>Documentaries</td>\n",
       "      <td>tt8258074</td>\n",
       "      <td>Documentary</td>\n",
       "      <td>7.4</td>\n",
       "    </tr>\n",
       "    <tr>\n",
       "      <th>24</th>\n",
       "      <td>Seven Pounds</td>\n",
       "      <td>2008</td>\n",
       "      <td>PG-13</td>\n",
       "      <td>123</td>\n",
       "      <td>Dramas, Romantic Movies</td>\n",
       "      <td>tt0814314</td>\n",
       "      <td>Drama</td>\n",
       "      <td>7.6</td>\n",
       "    </tr>\n",
       "    <tr>\n",
       "      <th>...</th>\n",
       "      <td>...</td>\n",
       "      <td>...</td>\n",
       "      <td>...</td>\n",
       "      <td>...</td>\n",
       "      <td>...</td>\n",
       "      <td>...</td>\n",
       "      <td>...</td>\n",
       "      <td>...</td>\n",
       "    </tr>\n",
       "    <tr>\n",
       "      <th>435</th>\n",
       "      <td>The Phantom of the Opera</td>\n",
       "      <td>2004</td>\n",
       "      <td>PG-13</td>\n",
       "      <td>141</td>\n",
       "      <td>Dramas, Music &amp; Musicals, Romantic Movies</td>\n",
       "      <td>tt0293508</td>\n",
       "      <td>Drama,Musical,Romance</td>\n",
       "      <td>7.2</td>\n",
       "    </tr>\n",
       "    <tr>\n",
       "      <th>444</th>\n",
       "      <td>Trophy</td>\n",
       "      <td>2017</td>\n",
       "      <td>TV-MA</td>\n",
       "      <td>110</td>\n",
       "      <td>Documentaries, International Movies</td>\n",
       "      <td>tt6333066</td>\n",
       "      <td>Documentary</td>\n",
       "      <td>7.4</td>\n",
       "    </tr>\n",
       "    <tr>\n",
       "      <th>447</th>\n",
       "      <td>Tyke Elephant Outlaw</td>\n",
       "      <td>2015</td>\n",
       "      <td>TV-14</td>\n",
       "      <td>78</td>\n",
       "      <td>Documentaries, International Movies</td>\n",
       "      <td>tt4254838</td>\n",
       "      <td>Documentary</td>\n",
       "      <td>7.4</td>\n",
       "    </tr>\n",
       "    <tr>\n",
       "      <th>449</th>\n",
       "      <td>Waiting</td>\n",
       "      <td>2015</td>\n",
       "      <td>TV-MA</td>\n",
       "      <td>94</td>\n",
       "      <td>Dramas, International Movies</td>\n",
       "      <td>tt3531740</td>\n",
       "      <td>Documentary,Drama</td>\n",
       "      <td>7.7</td>\n",
       "    </tr>\n",
       "    <tr>\n",
       "      <th>451</th>\n",
       "      <td>War Horse</td>\n",
       "      <td>2011</td>\n",
       "      <td>PG-13</td>\n",
       "      <td>147</td>\n",
       "      <td>Dramas</td>\n",
       "      <td>tt1568911</td>\n",
       "      <td>Action,Adventure,Drama</td>\n",
       "      <td>7.2</td>\n",
       "    </tr>\n",
       "  </tbody>\n",
       "</table>\n",
       "<p>95 rows × 8 columns</p>\n",
       "</div>"
      ],
      "text/plain": [
       "                            title  release_year rating  duration  \\\n",
       "8     Once Upon a Time in America          1984      R       229   \n",
       "13                         Bombay          1995  TV-14       135   \n",
       "14   Untold: Malice at the Palace          2021  TV-MA        70   \n",
       "18                Fantastic Fungi          2019  TV-14        81   \n",
       "24                   Seven Pounds          2008  PG-13       123   \n",
       "..                            ...           ...    ...       ...   \n",
       "435      The Phantom of the Opera          2004  PG-13       141   \n",
       "444                        Trophy          2017  TV-MA       110   \n",
       "447          Tyke Elephant Outlaw          2015  TV-14        78   \n",
       "449                       Waiting          2015  TV-MA        94   \n",
       "451                     War Horse          2011  PG-13       147   \n",
       "\n",
       "                                         listed_in      tconst  \\\n",
       "8                           Classic Movies, Dramas   tt0087843   \n",
       "13   Dramas, International Movies, Romantic Movies   tt0112553   \n",
       "14                    Documentaries, Sports Movies  tt15085802   \n",
       "18                                   Documentaries   tt8258074   \n",
       "24                         Dramas, Romantic Movies   tt0814314   \n",
       "..                                             ...         ...   \n",
       "435      Dramas, Music & Musicals, Romantic Movies   tt0293508   \n",
       "444            Documentaries, International Movies   tt6333066   \n",
       "447            Documentaries, International Movies   tt4254838   \n",
       "449                   Dramas, International Movies   tt3531740   \n",
       "451                                         Dramas   tt1568911   \n",
       "\n",
       "                      genres  averageRating  \n",
       "8                Crime,Drama            8.3  \n",
       "13             Drama,Romance            8.1  \n",
       "14   Crime,Documentary,Sport            7.5  \n",
       "18               Documentary            7.4  \n",
       "24                     Drama            7.6  \n",
       "..                       ...            ...  \n",
       "435    Drama,Musical,Romance            7.2  \n",
       "444              Documentary            7.4  \n",
       "447              Documentary            7.4  \n",
       "449        Documentary,Drama            7.7  \n",
       "451   Action,Adventure,Drama            7.2  \n",
       "\n",
       "[95 rows x 8 columns]"
      ]
     },
     "execution_count": 250,
     "metadata": {},
     "output_type": "execute_result"
    }
   ],
   "source": [
    "nf_imdb.loc[nf_imdb.averageRating > 7.0]"
   ]
  },
  {
   "cell_type": "code",
   "execution_count": 254,
   "id": "bdd543a7",
   "metadata": {},
   "outputs": [
    {
     "data": {
      "text/html": [
       "<div>\n",
       "<style scoped>\n",
       "    .dataframe tbody tr th:only-of-type {\n",
       "        vertical-align: middle;\n",
       "    }\n",
       "\n",
       "    .dataframe tbody tr th {\n",
       "        vertical-align: top;\n",
       "    }\n",
       "\n",
       "    .dataframe thead th {\n",
       "        text-align: right;\n",
       "    }\n",
       "</style>\n",
       "<table border=\"1\" class=\"dataframe\">\n",
       "  <thead>\n",
       "    <tr style=\"text-align: right;\">\n",
       "      <th></th>\n",
       "      <th>title</th>\n",
       "      <th>release_year</th>\n",
       "      <th>rating</th>\n",
       "      <th>duration</th>\n",
       "      <th>listed_in</th>\n",
       "      <th>tconst</th>\n",
       "      <th>genres</th>\n",
       "      <th>averageRating</th>\n",
       "    </tr>\n",
       "  </thead>\n",
       "  <tbody>\n",
       "    <tr>\n",
       "      <th>357</th>\n",
       "      <td>Krish Trish and Baltiboy: Face Your Fears</td>\n",
       "      <td>2017</td>\n",
       "      <td>TV-Y7</td>\n",
       "      <td>65</td>\n",
       "      <td>Children &amp; Family Movies</td>\n",
       "      <td>tt8672310</td>\n",
       "      <td>Animation</td>\n",
       "      <td>9.0</td>\n",
       "    </tr>\n",
       "    <tr>\n",
       "      <th>84</th>\n",
       "      <td>Listen</td>\n",
       "      <td>2017</td>\n",
       "      <td>TV-MA</td>\n",
       "      <td>103</td>\n",
       "      <td>Dramas, Independent Movies, International Movies</td>\n",
       "      <td>tt3766102</td>\n",
       "      <td>Drama</td>\n",
       "      <td>9.0</td>\n",
       "    </tr>\n",
       "    <tr>\n",
       "      <th>360</th>\n",
       "      <td>Life in the Doghouse</td>\n",
       "      <td>2018</td>\n",
       "      <td>TV-PG</td>\n",
       "      <td>83</td>\n",
       "      <td>Documentaries, LGBTQ Movies</td>\n",
       "      <td>tt5178264</td>\n",
       "      <td>Documentary</td>\n",
       "      <td>8.4</td>\n",
       "    </tr>\n",
       "    <tr>\n",
       "      <th>391</th>\n",
       "      <td>Sairat</td>\n",
       "      <td>2016</td>\n",
       "      <td>TV-14</td>\n",
       "      <td>173</td>\n",
       "      <td>Dramas, International Movies, Romantic Movies</td>\n",
       "      <td>tt5312232</td>\n",
       "      <td>Drama,Romance</td>\n",
       "      <td>8.3</td>\n",
       "    </tr>\n",
       "    <tr>\n",
       "      <th>8</th>\n",
       "      <td>Once Upon a Time in America</td>\n",
       "      <td>1984</td>\n",
       "      <td>R</td>\n",
       "      <td>229</td>\n",
       "      <td>Classic Movies, Dramas</td>\n",
       "      <td>tt0087843</td>\n",
       "      <td>Crime,Drama</td>\n",
       "      <td>8.3</td>\n",
       "    </tr>\n",
       "    <tr>\n",
       "      <th>191</th>\n",
       "      <td>Andhadhun</td>\n",
       "      <td>2018</td>\n",
       "      <td>TV-14</td>\n",
       "      <td>137</td>\n",
       "      <td>Comedies, Dramas, International Movies</td>\n",
       "      <td>tt8108198</td>\n",
       "      <td>Comedy,Crime,Music</td>\n",
       "      <td>8.2</td>\n",
       "    </tr>\n",
       "    <tr>\n",
       "      <th>130</th>\n",
       "      <td>Miracle in Cell No. 7</td>\n",
       "      <td>2019</td>\n",
       "      <td>TV-14</td>\n",
       "      <td>132</td>\n",
       "      <td>Dramas, International Movies</td>\n",
       "      <td>tt10431500</td>\n",
       "      <td>Drama</td>\n",
       "      <td>8.2</td>\n",
       "    </tr>\n",
       "    <tr>\n",
       "      <th>386</th>\n",
       "      <td>Raging Bull</td>\n",
       "      <td>1980</td>\n",
       "      <td>R</td>\n",
       "      <td>129</td>\n",
       "      <td>Classic Movies, Dramas, Sports Movies</td>\n",
       "      <td>tt0081398</td>\n",
       "      <td>Biography,Drama,Sport</td>\n",
       "      <td>8.2</td>\n",
       "    </tr>\n",
       "    <tr>\n",
       "      <th>147</th>\n",
       "      <td>Klaus</td>\n",
       "      <td>2019</td>\n",
       "      <td>PG</td>\n",
       "      <td>98</td>\n",
       "      <td>Children &amp; Family Movies, Comedies</td>\n",
       "      <td>tt4729430</td>\n",
       "      <td>Adventure,Animation,Comedy</td>\n",
       "      <td>8.1</td>\n",
       "    </tr>\n",
       "    <tr>\n",
       "      <th>174</th>\n",
       "      <td>Shonar Pahar</td>\n",
       "      <td>2018</td>\n",
       "      <td>TV-PG</td>\n",
       "      <td>131</td>\n",
       "      <td>Dramas, Independent Movies, International Movies</td>\n",
       "      <td>tt8347882</td>\n",
       "      <td>Drama</td>\n",
       "      <td>8.1</td>\n",
       "    </tr>\n",
       "    <tr>\n",
       "      <th>398</th>\n",
       "      <td>Shiva</td>\n",
       "      <td>1990</td>\n",
       "      <td>TV-MA</td>\n",
       "      <td>168</td>\n",
       "      <td>Action &amp; Adventure, Dramas, International Movies</td>\n",
       "      <td>tt14984074</td>\n",
       "      <td>Crime</td>\n",
       "      <td>8.1</td>\n",
       "    </tr>\n",
       "    <tr>\n",
       "      <th>13</th>\n",
       "      <td>Bombay</td>\n",
       "      <td>1995</td>\n",
       "      <td>TV-14</td>\n",
       "      <td>135</td>\n",
       "      <td>Dramas, International Movies, Romantic Movies</td>\n",
       "      <td>tt0112553</td>\n",
       "      <td>Drama,Romance</td>\n",
       "      <td>8.1</td>\n",
       "    </tr>\n",
       "    <tr>\n",
       "      <th>304</th>\n",
       "      <td>Bobby Robson: More Than a Manager</td>\n",
       "      <td>2018</td>\n",
       "      <td>TV-14</td>\n",
       "      <td>99</td>\n",
       "      <td>Documentaries, International Movies, Sports Mo...</td>\n",
       "      <td>tt6864864</td>\n",
       "      <td>Documentary,Sport</td>\n",
       "      <td>8.1</td>\n",
       "    </tr>\n",
       "    <tr>\n",
       "      <th>281</th>\n",
       "      <td>A Billion Colour Story</td>\n",
       "      <td>2016</td>\n",
       "      <td>TV-14</td>\n",
       "      <td>104</td>\n",
       "      <td>Dramas, Independent Movies, International Movies</td>\n",
       "      <td>tt6289320</td>\n",
       "      <td>Drama</td>\n",
       "      <td>8.1</td>\n",
       "    </tr>\n",
       "    <tr>\n",
       "      <th>295</th>\n",
       "      <td>Beary Tales</td>\n",
       "      <td>2013</td>\n",
       "      <td>TV-G</td>\n",
       "      <td>52</td>\n",
       "      <td>Children &amp; Family Movies, Documentaries, Inter...</td>\n",
       "      <td>tt6780296</td>\n",
       "      <td>Documentary</td>\n",
       "      <td>8.1</td>\n",
       "    </tr>\n",
       "    <tr>\n",
       "      <th>206</th>\n",
       "      <td>Barfi!</td>\n",
       "      <td>2012</td>\n",
       "      <td>TV-14</td>\n",
       "      <td>144</td>\n",
       "      <td>Comedies, Dramas, International Movies</td>\n",
       "      <td>tt2082197</td>\n",
       "      <td>Comedy,Drama,Romance</td>\n",
       "      <td>8.1</td>\n",
       "    </tr>\n",
       "    <tr>\n",
       "      <th>267</th>\n",
       "      <td>Richard Pryor: Live in Concert</td>\n",
       "      <td>1979</td>\n",
       "      <td>TV-MA</td>\n",
       "      <td>79</td>\n",
       "      <td>Stand-Up Comedy</td>\n",
       "      <td>tt0079807</td>\n",
       "      <td>Comedy,Documentary</td>\n",
       "      <td>8.0</td>\n",
       "    </tr>\n",
       "    <tr>\n",
       "      <th>56</th>\n",
       "      <td>Rain Man</td>\n",
       "      <td>1988</td>\n",
       "      <td>R</td>\n",
       "      <td>134</td>\n",
       "      <td>Classic Movies, Dramas</td>\n",
       "      <td>tt0095953</td>\n",
       "      <td>Drama</td>\n",
       "      <td>8.0</td>\n",
       "    </tr>\n",
       "    <tr>\n",
       "      <th>122</th>\n",
       "      <td>Kal Ho Naa Ho</td>\n",
       "      <td>2003</td>\n",
       "      <td>TV-14</td>\n",
       "      <td>187</td>\n",
       "      <td>Comedies, Dramas, International Movies</td>\n",
       "      <td>tt0347304</td>\n",
       "      <td>Comedy,Drama,Musical</td>\n",
       "      <td>7.9</td>\n",
       "    </tr>\n",
       "    <tr>\n",
       "      <th>25</th>\n",
       "      <td>Star Trek</td>\n",
       "      <td>2009</td>\n",
       "      <td>PG-13</td>\n",
       "      <td>128</td>\n",
       "      <td>Action &amp; Adventure, Sci-Fi &amp; Fantasy</td>\n",
       "      <td>tt0796366</td>\n",
       "      <td>Action,Adventure,Sci-Fi</td>\n",
       "      <td>7.9</td>\n",
       "    </tr>\n",
       "    <tr>\n",
       "      <th>57</th>\n",
       "      <td>Captain Fantastic</td>\n",
       "      <td>2016</td>\n",
       "      <td>R</td>\n",
       "      <td>119</td>\n",
       "      <td>Comedies, Dramas, Independent Movies</td>\n",
       "      <td>tt3553976</td>\n",
       "      <td>Comedy,Drama</td>\n",
       "      <td>7.8</td>\n",
       "    </tr>\n",
       "    <tr>\n",
       "      <th>51</th>\n",
       "      <td>7 Yards: The Chris Norton Story</td>\n",
       "      <td>2021</td>\n",
       "      <td>TV-PG</td>\n",
       "      <td>93</td>\n",
       "      <td>Documentaries</td>\n",
       "      <td>tt12439210</td>\n",
       "      <td>Documentary</td>\n",
       "      <td>7.8</td>\n",
       "    </tr>\n",
       "    <tr>\n",
       "      <th>432</th>\n",
       "      <td>The Little Prince</td>\n",
       "      <td>2015</td>\n",
       "      <td>PG</td>\n",
       "      <td>107</td>\n",
       "      <td>Children &amp; Family Movies</td>\n",
       "      <td>tt1754656</td>\n",
       "      <td>Adventure,Animation,Drama</td>\n",
       "      <td>7.7</td>\n",
       "    </tr>\n",
       "    <tr>\n",
       "      <th>292</th>\n",
       "      <td>As Good as It Gets</td>\n",
       "      <td>1997</td>\n",
       "      <td>PG-13</td>\n",
       "      <td>139</td>\n",
       "      <td>Comedies, Romantic Movies</td>\n",
       "      <td>tt0119822</td>\n",
       "      <td>Comedy,Drama,Romance</td>\n",
       "      <td>7.7</td>\n",
       "    </tr>\n",
       "    <tr>\n",
       "      <th>201</th>\n",
       "      <td>The Pixar Story</td>\n",
       "      <td>2007</td>\n",
       "      <td>G</td>\n",
       "      <td>89</td>\n",
       "      <td>Documentaries</td>\n",
       "      <td>tt1059955</td>\n",
       "      <td>Documentary</td>\n",
       "      <td>7.7</td>\n",
       "    </tr>\n",
       "  </tbody>\n",
       "</table>\n",
       "</div>"
      ],
      "text/plain": [
       "                                         title  release_year rating  duration  \\\n",
       "357  Krish Trish and Baltiboy: Face Your Fears          2017  TV-Y7        65   \n",
       "84                                      Listen          2017  TV-MA       103   \n",
       "360                       Life in the Doghouse          2018  TV-PG        83   \n",
       "391                                     Sairat          2016  TV-14       173   \n",
       "8                  Once Upon a Time in America          1984      R       229   \n",
       "191                                  Andhadhun          2018  TV-14       137   \n",
       "130                      Miracle in Cell No. 7          2019  TV-14       132   \n",
       "386                                Raging Bull          1980      R       129   \n",
       "147                                      Klaus          2019     PG        98   \n",
       "174                               Shonar Pahar          2018  TV-PG       131   \n",
       "398                                      Shiva          1990  TV-MA       168   \n",
       "13                                      Bombay          1995  TV-14       135   \n",
       "304          Bobby Robson: More Than a Manager          2018  TV-14        99   \n",
       "281                     A Billion Colour Story          2016  TV-14       104   \n",
       "295                                Beary Tales          2013   TV-G        52   \n",
       "206                                     Barfi!          2012  TV-14       144   \n",
       "267             Richard Pryor: Live in Concert          1979  TV-MA        79   \n",
       "56                                    Rain Man          1988      R       134   \n",
       "122                              Kal Ho Naa Ho          2003  TV-14       187   \n",
       "25                                   Star Trek          2009  PG-13       128   \n",
       "57                           Captain Fantastic          2016      R       119   \n",
       "51             7 Yards: The Chris Norton Story          2021  TV-PG        93   \n",
       "432                          The Little Prince          2015     PG       107   \n",
       "292                         As Good as It Gets          1997  PG-13       139   \n",
       "201                            The Pixar Story          2007      G        89   \n",
       "\n",
       "                                             listed_in      tconst  \\\n",
       "357                           Children & Family Movies   tt8672310   \n",
       "84    Dramas, Independent Movies, International Movies   tt3766102   \n",
       "360                        Documentaries, LGBTQ Movies   tt5178264   \n",
       "391      Dramas, International Movies, Romantic Movies   tt5312232   \n",
       "8                               Classic Movies, Dramas   tt0087843   \n",
       "191             Comedies, Dramas, International Movies   tt8108198   \n",
       "130                       Dramas, International Movies  tt10431500   \n",
       "386              Classic Movies, Dramas, Sports Movies   tt0081398   \n",
       "147                 Children & Family Movies, Comedies   tt4729430   \n",
       "174   Dramas, Independent Movies, International Movies   tt8347882   \n",
       "398   Action & Adventure, Dramas, International Movies  tt14984074   \n",
       "13       Dramas, International Movies, Romantic Movies   tt0112553   \n",
       "304  Documentaries, International Movies, Sports Mo...   tt6864864   \n",
       "281   Dramas, Independent Movies, International Movies   tt6289320   \n",
       "295  Children & Family Movies, Documentaries, Inter...   tt6780296   \n",
       "206             Comedies, Dramas, International Movies   tt2082197   \n",
       "267                                    Stand-Up Comedy   tt0079807   \n",
       "56                              Classic Movies, Dramas   tt0095953   \n",
       "122             Comedies, Dramas, International Movies   tt0347304   \n",
       "25                Action & Adventure, Sci-Fi & Fantasy   tt0796366   \n",
       "57                Comedies, Dramas, Independent Movies   tt3553976   \n",
       "51                                       Documentaries  tt12439210   \n",
       "432                           Children & Family Movies   tt1754656   \n",
       "292                          Comedies, Romantic Movies   tt0119822   \n",
       "201                                      Documentaries   tt1059955   \n",
       "\n",
       "                         genres  averageRating  \n",
       "357                   Animation            9.0  \n",
       "84                        Drama            9.0  \n",
       "360                 Documentary            8.4  \n",
       "391               Drama,Romance            8.3  \n",
       "8                   Crime,Drama            8.3  \n",
       "191          Comedy,Crime,Music            8.2  \n",
       "130                       Drama            8.2  \n",
       "386       Biography,Drama,Sport            8.2  \n",
       "147  Adventure,Animation,Comedy            8.1  \n",
       "174                       Drama            8.1  \n",
       "398                       Crime            8.1  \n",
       "13                Drama,Romance            8.1  \n",
       "304           Documentary,Sport            8.1  \n",
       "281                       Drama            8.1  \n",
       "295                 Documentary            8.1  \n",
       "206        Comedy,Drama,Romance            8.1  \n",
       "267          Comedy,Documentary            8.0  \n",
       "56                        Drama            8.0  \n",
       "122        Comedy,Drama,Musical            7.9  \n",
       "25      Action,Adventure,Sci-Fi            7.9  \n",
       "57                 Comedy,Drama            7.8  \n",
       "51                  Documentary            7.8  \n",
       "432   Adventure,Animation,Drama            7.7  \n",
       "292        Comedy,Drama,Romance            7.7  \n",
       "201                 Documentary            7.7  "
      ]
     },
     "execution_count": 254,
     "metadata": {},
     "output_type": "execute_result"
    }
   ],
   "source": [
    "nf_imdb.sort_values('averageRating', ascending=False)[:25]"
   ]
  }
 ],
 "metadata": {
  "kernelspec": {
   "display_name": "Python 3 (ipykernel)",
   "language": "python",
   "name": "python3"
  },
  "language_info": {
   "codemirror_mode": {
    "name": "ipython",
    "version": 3
   },
   "file_extension": ".py",
   "mimetype": "text/x-python",
   "name": "python",
   "nbconvert_exporter": "python",
   "pygments_lexer": "ipython3",
   "version": "3.9.7"
  }
 },
 "nbformat": 4,
 "nbformat_minor": 5
}
