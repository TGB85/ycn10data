{
 "cells": [
  {
   "cell_type": "code",
   "execution_count": 9,
   "id": "2baad3b6",
   "metadata": {},
   "outputs": [],
   "source": [
    "import os\n",
    "import pandas as pd"
   ]
  },
  {
   "cell_type": "markdown",
   "id": "e961f1c3",
   "metadata": {},
   "source": [
    "dataset: https://www.kaggle.com/datasets/ashirwadsangwan/imdb-dataset  \\\n",
    "saved name.basics as names, title.basics as titles, title.ratings as ratings  \n",
    "* names columns = const, primaryName, birthYear, deathYear, primaryProfession, knownForTitles (array of tconst)   \n",
    "* titles columns = tconst, titleType, primaryTitle, originalTitle, isAdult(1=adult title), startYear, endYear, runtimeMinutes, genres (string array, max length=3)\n",
    "* ratings columns =  tconst, averageRating, numVotes"
   ]
  },
  {
   "cell_type": "code",
   "execution_count": 10,
   "id": "235a23e8",
   "metadata": {},
   "outputs": [],
   "source": [
    "folder = './imdb/'"
   ]
  },
  {
   "cell_type": "code",
   "execution_count": null,
   "id": "319a673b",
   "metadata": {},
   "outputs": [],
   "source": [
    "# git bash: head -n 1 titles.tsv > title_sample.tsv\n",
    "# tail -n+2 titles.tsv | shuf -n 1000000 >> title_sample.tsv"
   ]
  },
  {
   "cell_type": "code",
   "execution_count": 11,
   "id": "1e935f1b",
   "metadata": {},
   "outputs": [
    {
     "data": {
      "text/plain": [
       "['./imdb/names.tsv',\n",
       " './imdb/ratings.tsv',\n",
       " './imdb/titles.tsv',\n",
       " './imdb/title_sample.tsv']"
      ]
     },
     "execution_count": 11,
     "metadata": {},
     "output_type": "execute_result"
    }
   ],
   "source": [
    "files = [os.path.join(folder, file) for file in os.listdir(folder)]\n",
    "files"
   ]
  },
  {
   "cell_type": "code",
   "execution_count": 33,
   "id": "26b6cba0",
   "metadata": {
    "collapsed": true
   },
   "outputs": [
    {
     "data": {
      "text/plain": [
       "'names_df'"
      ]
     },
     "execution_count": 33,
     "metadata": {},
     "output_type": "execute_result"
    }
   ],
   "source": [
    "# os.path.basename(files[0]).split('.')[0]"
   ]
  },
  {
   "cell_type": "code",
   "execution_count": 34,
   "id": "f71336c3",
   "metadata": {
    "collapsed": true
   },
   "outputs": [
    {
     "name": "stderr",
     "output_type": "stream",
     "text": [
      "C:\\Users\\tammi\\AppData\\Local\\Temp/ipykernel_20664/3900485227.py:2: DtypeWarning: Columns (4) have mixed types.Specify dtype option on import or set low_memory=False.\n",
      "  dfs = {f\"{os.path.basename(files[0]).split('.')[0]}_df\": pd.read_csv(file, delimiter=\"\\t\") for file in files}\n"
     ]
    }
   ],
   "source": [
    "# dfs = {f\"{os.path.basename(files[0]).split('.')[0]}_df\": pd.read_csv(file, delimiter=\"\\t\") for file in files}\n",
    "# DtypeWarning: Columns (4) have mixed types.Specify dtype option on import or set low_memory=False."
   ]
  },
  {
   "cell_type": "code",
   "execution_count": 41,
   "id": "eb67c6e2",
   "metadata": {},
   "outputs": [],
   "source": [
    "ratings = pd.read_csv(files[1], delimiter='\\t', dtype={'tconst': str, 'averageRating': 'float64', 'numVotes': int}, usecols=['tconst', 'averageRating'])"
   ]
  },
  {
   "cell_type": "code",
   "execution_count": 43,
   "id": "da4396ce",
   "metadata": {},
   "outputs": [
    {
     "name": "stdout",
     "output_type": "stream",
     "text": [
      "<class 'pandas.core.frame.DataFrame'>\n",
      "RangeIndex: 1238892 entries, 0 to 1238891\n",
      "Data columns (total 2 columns):\n",
      " #   Column         Non-Null Count    Dtype  \n",
      "---  ------         --------------    -----  \n",
      " 0   tconst         1238892 non-null  object \n",
      " 1   averageRating  1238892 non-null  float64\n",
      "dtypes: float64(1), object(1)\n",
      "memory usage: 18.9+ MB\n"
     ]
    }
   ],
   "source": [
    "ratings.info()"
   ]
  },
  {
   "cell_type": "code",
   "execution_count": 14,
   "id": "ed4fa879",
   "metadata": {},
   "outputs": [],
   "source": [
    "names = pd.read_csv(files[0], delimiter='\\t', usecols=['primaryName', 'knownForTitles'])"
   ]
  },
  {
   "cell_type": "code",
   "execution_count": 15,
   "id": "87c2c370",
   "metadata": {},
   "outputs": [
    {
     "name": "stdout",
     "output_type": "stream",
     "text": [
      "<class 'pandas.core.frame.DataFrame'>\n",
      "RangeIndex: 12005705 entries, 0 to 12005704\n",
      "Data columns (total 2 columns):\n",
      " #   Column          Dtype \n",
      "---  ------          ----- \n",
      " 0   primaryName     object\n",
      " 1   knownForTitles  object\n",
      "dtypes: object(2)\n",
      "memory usage: 183.2+ MB\n"
     ]
    }
   ],
   "source": [
    "names.info()"
   ]
  },
  {
   "cell_type": "code",
   "execution_count": 16,
   "id": "3b0684a0",
   "metadata": {},
   "outputs": [
    {
     "data": {
      "text/html": [
       "<div>\n",
       "<style scoped>\n",
       "    .dataframe tbody tr th:only-of-type {\n",
       "        vertical-align: middle;\n",
       "    }\n",
       "\n",
       "    .dataframe tbody tr th {\n",
       "        vertical-align: top;\n",
       "    }\n",
       "\n",
       "    .dataframe thead th {\n",
       "        text-align: right;\n",
       "    }\n",
       "</style>\n",
       "<table border=\"1\" class=\"dataframe\">\n",
       "  <thead>\n",
       "    <tr style=\"text-align: right;\">\n",
       "      <th></th>\n",
       "      <th>primaryName</th>\n",
       "      <th>knownForTitles</th>\n",
       "    </tr>\n",
       "  </thead>\n",
       "  <tbody>\n",
       "    <tr>\n",
       "      <th>0</th>\n",
       "      <td>Fred Astaire</td>\n",
       "      <td>tt0031983,tt0050419,tt0053137,tt0072308</td>\n",
       "    </tr>\n",
       "    <tr>\n",
       "      <th>1</th>\n",
       "      <td>Lauren Bacall</td>\n",
       "      <td>tt0038355,tt0037382,tt0075213,tt0117057</td>\n",
       "    </tr>\n",
       "    <tr>\n",
       "      <th>2</th>\n",
       "      <td>Brigitte Bardot</td>\n",
       "      <td>tt0057345,tt0054452,tt0056404,tt0049189</td>\n",
       "    </tr>\n",
       "    <tr>\n",
       "      <th>3</th>\n",
       "      <td>John Belushi</td>\n",
       "      <td>tt0080455,tt0078723,tt0072562,tt0077975</td>\n",
       "    </tr>\n",
       "    <tr>\n",
       "      <th>4</th>\n",
       "      <td>Ingmar Bergman</td>\n",
       "      <td>tt0060827,tt0069467,tt0050986,tt0083922</td>\n",
       "    </tr>\n",
       "  </tbody>\n",
       "</table>\n",
       "</div>"
      ],
      "text/plain": [
       "       primaryName                           knownForTitles\n",
       "0     Fred Astaire  tt0031983,tt0050419,tt0053137,tt0072308\n",
       "1    Lauren Bacall  tt0038355,tt0037382,tt0075213,tt0117057\n",
       "2  Brigitte Bardot  tt0057345,tt0054452,tt0056404,tt0049189\n",
       "3     John Belushi  tt0080455,tt0078723,tt0072562,tt0077975\n",
       "4   Ingmar Bergman  tt0060827,tt0069467,tt0050986,tt0083922"
      ]
     },
     "execution_count": 16,
     "metadata": {},
     "output_type": "execute_result"
    }
   ],
   "source": [
    "names.head()"
   ]
  },
  {
   "cell_type": "code",
   "execution_count": 91,
   "id": "bb36eb27",
   "metadata": {},
   "outputs": [],
   "source": [
    "titles_sample = pd.read_csv(files[3], delimiter='\\t')"
   ]
  },
  {
   "cell_type": "code",
   "execution_count": 92,
   "id": "a4c6bbb6",
   "metadata": {},
   "outputs": [
    {
     "data": {
      "text/plain": [
       "array(['\\\\N', nan], dtype=object)"
      ]
     },
     "execution_count": 92,
     "metadata": {},
     "output_type": "execute_result"
    }
   ],
   "source": [
    "titles_sample.genres.unique()"
   ]
  },
  {
   "cell_type": "code",
   "execution_count": 17,
   "id": "f09bd35d",
   "metadata": {},
   "outputs": [],
   "source": [
    "t_columns = {'tconst': str,\n",
    "            'titleType': str,\n",
    "            'primaryTitle': str,\n",
    "            'originalTitle': str,\n",
    "            'isAdult': object,\n",
    "            'startYear': object,\n",
    "            'endYear': object,\n",
    "            'runtimeMinutes': object,\n",
    "            'genres': object\n",
    "            }"
   ]
  },
  {
   "cell_type": "code",
   "execution_count": 80,
   "id": "aabf0dfe",
   "metadata": {},
   "outputs": [],
   "source": [
    "titles = pd.read_csv(files[2], delimiter='\\t', dtype=t_columns, usecols=['tconst','isAdult','genres'])"
   ]
  },
  {
   "cell_type": "code",
   "execution_count": 81,
   "id": "26609a73",
   "metadata": {},
   "outputs": [
    {
     "data": {
      "text/plain": [
       "array(['0', '1', '2019', '1981', '2020', '2017', '\\\\N', '2014', '2005'],\n",
       "      dtype=object)"
      ]
     },
     "execution_count": 81,
     "metadata": {},
     "output_type": "execute_result"
    }
   ],
   "source": [
    "# isAdult == '2020' > https://www.imdb.com/title/tt11868642/\n",
    "titles.isAdult.unique()"
   ]
  },
  {
   "cell_type": "code",
   "execution_count": 82,
   "id": "74c9dfcb",
   "metadata": {},
   "outputs": [],
   "source": [
    "titles.drop(titles[titles.isAdult != '0'].index, inplace=True)"
   ]
  },
  {
   "cell_type": "code",
   "execution_count": 85,
   "id": "15a59173",
   "metadata": {},
   "outputs": [
    {
     "data": {
      "text/html": [
       "<div>\n",
       "<style scoped>\n",
       "    .dataframe tbody tr th:only-of-type {\n",
       "        vertical-align: middle;\n",
       "    }\n",
       "\n",
       "    .dataframe tbody tr th {\n",
       "        vertical-align: top;\n",
       "    }\n",
       "\n",
       "    .dataframe thead th {\n",
       "        text-align: right;\n",
       "    }\n",
       "</style>\n",
       "<table border=\"1\" class=\"dataframe\">\n",
       "  <thead>\n",
       "    <tr style=\"text-align: right;\">\n",
       "      <th></th>\n",
       "      <th>tconst</th>\n",
       "      <th>isAdult</th>\n",
       "      <th>genres</th>\n",
       "    </tr>\n",
       "  </thead>\n",
       "  <tbody>\n",
       "  </tbody>\n",
       "</table>\n",
       "</div>"
      ],
      "text/plain": [
       "Empty DataFrame\n",
       "Columns: [tconst, isAdult, genres]\n",
       "Index: []"
      ]
     },
     "execution_count": 85,
     "metadata": {},
     "output_type": "execute_result"
    }
   ],
   "source": [
    "# titles[titles.isAdult == '2020']"
   ]
  },
  {
   "cell_type": "code",
   "execution_count": 86,
   "id": "f30e1df9",
   "metadata": {},
   "outputs": [],
   "source": [
    "titles.drop(['isAdult'], axis=1, inplace=True)"
   ]
  },
  {
   "cell_type": "code",
   "execution_count": 87,
   "id": "604e3b4a",
   "metadata": {},
   "outputs": [
    {
     "name": "stdout",
     "output_type": "stream",
     "text": [
      "<class 'pandas.core.frame.DataFrame'>\n",
      "Int64Index: 9015495 entries, 0 to 9304285\n",
      "Data columns (total 2 columns):\n",
      " #   Column  Dtype \n",
      "---  ------  ----- \n",
      " 0   tconst  object\n",
      " 1   genres  object\n",
      "dtypes: object(2)\n",
      "memory usage: 206.3+ MB\n"
     ]
    }
   ],
   "source": [
    "titles.info()"
   ]
  },
  {
   "cell_type": "code",
   "execution_count": 88,
   "id": "3b41000c",
   "metadata": {},
   "outputs": [
    {
     "data": {
      "text/plain": [
       "array(['\\\\N'], dtype=object)"
      ]
     },
     "execution_count": 88,
     "metadata": {},
     "output_type": "execute_result"
    }
   ],
   "source": [
    "titles.genres.unique()"
   ]
  }
 ],
 "metadata": {
  "kernelspec": {
   "display_name": "Python 3 (ipykernel)",
   "language": "python",
   "name": "python3"
  },
  "language_info": {
   "codemirror_mode": {
    "name": "ipython",
    "version": 3
   },
   "file_extension": ".py",
   "mimetype": "text/x-python",
   "name": "python",
   "nbconvert_exporter": "python",
   "pygments_lexer": "ipython3",
   "version": "3.9.7"
  }
 },
 "nbformat": 4,
 "nbformat_minor": 5
}
